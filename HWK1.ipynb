{
 "cells": [
  {
   "cell_type": "code",
   "execution_count": null,
   "metadata": {},
   "outputs": [],
   "source": [
    "#1 incremental learning as there is always going to be new and different customers so it would keep itself updated\n",
    "#2, supervised learning because it has to learn and then filter out the spam instead of letting it pick what it wants to filter out itself\n",
    "#3 it's usually done after the prediction to make sure that the data that you want to extract seems accurate and consice\n",
    "#4  e, i want to say for sure C but a would help i feel like"
   ]
  },
  {
   "cell_type": "code",
   "execution_count": 25,
   "metadata": {},
   "outputs": [
    {
     "data": {
      "text/html": [
       "<div>\n",
       "<style scoped>\n",
       "    .dataframe tbody tr th:only-of-type {\n",
       "        vertical-align: middle;\n",
       "    }\n",
       "\n",
       "    .dataframe tbody tr th {\n",
       "        vertical-align: top;\n",
       "    }\n",
       "\n",
       "    .dataframe thead th {\n",
       "        text-align: right;\n",
       "    }\n",
       "</style>\n",
       "<table border=\"1\" class=\"dataframe\">\n",
       "  <thead>\n",
       "    <tr style=\"text-align: right;\">\n",
       "      <th></th>\n",
       "      <th>No</th>\n",
       "      <th>transaction_date</th>\n",
       "      <th>house_age</th>\n",
       "      <th>distance_to_the_nearest_MRT_station</th>\n",
       "      <th>number_of_convenience_stores</th>\n",
       "      <th>latitude</th>\n",
       "      <th>longitude</th>\n",
       "      <th>house_price_of_unit_area</th>\n",
       "    </tr>\n",
       "  </thead>\n",
       "  <tbody>\n",
       "    <tr>\n",
       "      <th>0</th>\n",
       "      <td>1</td>\n",
       "      <td>2012.917</td>\n",
       "      <td>32.0</td>\n",
       "      <td>84.87882</td>\n",
       "      <td>10</td>\n",
       "      <td>24.98298</td>\n",
       "      <td>121.54024</td>\n",
       "      <td>37.9</td>\n",
       "    </tr>\n",
       "    <tr>\n",
       "      <th>1</th>\n",
       "      <td>2</td>\n",
       "      <td>2012.917</td>\n",
       "      <td>19.5</td>\n",
       "      <td>306.59470</td>\n",
       "      <td>9</td>\n",
       "      <td>24.98034</td>\n",
       "      <td>121.53951</td>\n",
       "      <td>42.2</td>\n",
       "    </tr>\n",
       "    <tr>\n",
       "      <th>2</th>\n",
       "      <td>3</td>\n",
       "      <td>2013.583</td>\n",
       "      <td>13.3</td>\n",
       "      <td>561.98450</td>\n",
       "      <td>5</td>\n",
       "      <td>24.98746</td>\n",
       "      <td>121.54391</td>\n",
       "      <td>47.3</td>\n",
       "    </tr>\n",
       "    <tr>\n",
       "      <th>3</th>\n",
       "      <td>4</td>\n",
       "      <td>2013.500</td>\n",
       "      <td>13.3</td>\n",
       "      <td>561.98450</td>\n",
       "      <td>5</td>\n",
       "      <td>24.98746</td>\n",
       "      <td>121.54391</td>\n",
       "      <td>54.8</td>\n",
       "    </tr>\n",
       "    <tr>\n",
       "      <th>4</th>\n",
       "      <td>5</td>\n",
       "      <td>2012.833</td>\n",
       "      <td>5.0</td>\n",
       "      <td>390.56840</td>\n",
       "      <td>5</td>\n",
       "      <td>24.97937</td>\n",
       "      <td>121.54245</td>\n",
       "      <td>43.1</td>\n",
       "    </tr>\n",
       "  </tbody>\n",
       "</table>\n",
       "</div>"
      ],
      "text/plain": [
       "   No  transaction_date  house_age  distance_to_the_nearest_MRT_station  \\\n",
       "0   1          2012.917       32.0                             84.87882   \n",
       "1   2          2012.917       19.5                            306.59470   \n",
       "2   3          2013.583       13.3                            561.98450   \n",
       "3   4          2013.500       13.3                            561.98450   \n",
       "4   5          2012.833        5.0                            390.56840   \n",
       "\n",
       "   number_of_convenience_stores  latitude  longitude  house_price_of_unit_area  \n",
       "0                            10  24.98298  121.54024                      37.9  \n",
       "1                             9  24.98034  121.53951                      42.2  \n",
       "2                             5  24.98746  121.54391                      47.3  \n",
       "3                             5  24.98746  121.54391                      54.8  \n",
       "4                             5  24.97937  121.54245                      43.1  "
      ]
     },
     "execution_count": 25,
     "metadata": {},
     "output_type": "execute_result"
    }
   ],
   "source": [
    "import boto3 \n",
    "import pandas as pd\n",
    "import numpy as np\n",
    "\n",
    "## defining the bucket\n",
    "s3 = boto3.resource('s3')\n",
    "bucket_name = 'rickydata445'\n",
    "bucket = s3.Bucket(bucket_name)\n",
    "\n",
    "## defining the csv file\n",
    "file_key = 'Real_Estate.csv'\n",
    "\n",
    "bucket_object = bucket.Object(file_key)\n",
    "file_object = bucket_object.get()\n",
    "file_content_stream = file_object.get('Body')\n",
    "\n",
    "## reading the csv file\n",
    "house_price = pd.read_csv(file_content_stream)\n",
    "house_price.head()"
   ]
  },
  {
   "cell_type": "code",
   "execution_count": 3,
   "metadata": {},
   "outputs": [
    {
     "data": {
      "text/html": [
       "<div>\n",
       "<style scoped>\n",
       "    .dataframe tbody tr th:only-of-type {\n",
       "        vertical-align: middle;\n",
       "    }\n",
       "\n",
       "    .dataframe tbody tr th {\n",
       "        vertical-align: top;\n",
       "    }\n",
       "\n",
       "    .dataframe thead th {\n",
       "        text-align: right;\n",
       "    }\n",
       "</style>\n",
       "<table border=\"1\" class=\"dataframe\">\n",
       "  <thead>\n",
       "    <tr style=\"text-align: right;\">\n",
       "      <th></th>\n",
       "      <th>house_age</th>\n",
       "      <th>distance_to_the_nearest_MRT_station</th>\n",
       "      <th>number_of_convenience_stores</th>\n",
       "      <th>latitude</th>\n",
       "      <th>longitude</th>\n",
       "      <th>house_price_of_unit_area</th>\n",
       "    </tr>\n",
       "  </thead>\n",
       "  <tbody>\n",
       "    <tr>\n",
       "      <th>0</th>\n",
       "      <td>32.0</td>\n",
       "      <td>84.87882</td>\n",
       "      <td>10</td>\n",
       "      <td>24.98298</td>\n",
       "      <td>121.54024</td>\n",
       "      <td>37.9</td>\n",
       "    </tr>\n",
       "    <tr>\n",
       "      <th>1</th>\n",
       "      <td>19.5</td>\n",
       "      <td>306.59470</td>\n",
       "      <td>9</td>\n",
       "      <td>24.98034</td>\n",
       "      <td>121.53951</td>\n",
       "      <td>42.2</td>\n",
       "    </tr>\n",
       "    <tr>\n",
       "      <th>2</th>\n",
       "      <td>13.3</td>\n",
       "      <td>561.98450</td>\n",
       "      <td>5</td>\n",
       "      <td>24.98746</td>\n",
       "      <td>121.54391</td>\n",
       "      <td>47.3</td>\n",
       "    </tr>\n",
       "    <tr>\n",
       "      <th>3</th>\n",
       "      <td>13.3</td>\n",
       "      <td>561.98450</td>\n",
       "      <td>5</td>\n",
       "      <td>24.98746</td>\n",
       "      <td>121.54391</td>\n",
       "      <td>54.8</td>\n",
       "    </tr>\n",
       "    <tr>\n",
       "      <th>4</th>\n",
       "      <td>5.0</td>\n",
       "      <td>390.56840</td>\n",
       "      <td>5</td>\n",
       "      <td>24.97937</td>\n",
       "      <td>121.54245</td>\n",
       "      <td>43.1</td>\n",
       "    </tr>\n",
       "  </tbody>\n",
       "</table>\n",
       "</div>"
      ],
      "text/plain": [
       "   house_age  distance_to_the_nearest_MRT_station  \\\n",
       "0       32.0                             84.87882   \n",
       "1       19.5                            306.59470   \n",
       "2       13.3                            561.98450   \n",
       "3       13.3                            561.98450   \n",
       "4        5.0                            390.56840   \n",
       "\n",
       "   number_of_convenience_stores  latitude  longitude  house_price_of_unit_area  \n",
       "0                            10  24.98298  121.54024                      37.9  \n",
       "1                             9  24.98034  121.53951                      42.2  \n",
       "2                             5  24.98746  121.54391                      47.3  \n",
       "3                             5  24.98746  121.54391                      54.8  \n",
       "4                             5  24.97937  121.54245                      43.1  "
      ]
     },
     "execution_count": 3,
     "metadata": {},
     "output_type": "execute_result"
    }
   ],
   "source": [
    "## dropping the no column\n",
    "house_price = house_price.drop(columns = ['No', 'transaction_date'])\n",
    "house_price.head()"
   ]
  },
  {
   "cell_type": "code",
   "execution_count": 4,
   "metadata": {},
   "outputs": [
    {
     "data": {
      "text/plain": [
       "array([-2.71080885e-01, -3.90668907e-03,  1.42503173e+00,  2.18384344e+02,\n",
       "        3.91569394e+00])"
      ]
     },
     "execution_count": 4,
     "metadata": {},
     "output_type": "execute_result"
    }
   ],
   "source": [
    "from sklearn.model_selection import train_test_split\n",
    "\n",
    "## defining the input and target variables\n",
    "X = house_price.drop(columns = ['house_price_of_unit_area'], axis = 1)\n",
    "Y = house_price['house_price_of_unit_area']\n",
    "\n",
    "## splitting the data\n",
    "X_train, X_test, Y_train, Y_test = train_test_split(X, Y, test_size = 0.2)\n",
    "\n",
    "## building the linear model\n",
    "from sklearn.linear_model import LinearRegression\n",
    "\n",
    "lm_md = LinearRegression().fit(X_train, Y_train)\n",
    "lm_md.coef_"
   ]
  },
  {
   "cell_type": "code",
   "execution_count": 5,
   "metadata": {},
   "outputs": [
    {
     "data": {
      "text/plain": [
       "array([47.24976864, 25.91724961, 45.2435774 , 32.18753297, 29.56791092,\n",
       "       41.88505502, 39.95386885, 35.93212483, 38.50168385, 45.9911728 ,\n",
       "       37.01443399, 32.45575644, 46.40176774, 33.12825222, 35.11313722,\n",
       "       14.420648  , 29.73725941, 23.96169294, 44.30775301, 53.80015712,\n",
       "       48.70575508, 53.21510473, 39.92125875, 41.77662267, 23.2460617 ,\n",
       "       50.37887351, 29.73334931, 33.88503372, 45.96388413, 27.89577944,\n",
       "       30.80476823, 33.92202556, 43.05035163, 37.74036694, 41.48046383,\n",
       "       32.476566  , 14.97894672, 41.16661332, 14.81629819, 50.31395004,\n",
       "       45.07844657, 38.2729703 , 29.55941617, 40.29928206, 32.50997262,\n",
       "       35.90681071, 27.21343974, 14.74568122, 40.24506588, 35.23293506,\n",
       "       38.80283828, 49.45984029, 29.64842778, 50.37887351, 39.80843135,\n",
       "       14.68367357, 47.40931709, 34.49503784, 37.17887306, 38.03680922,\n",
       "       44.51918272, 31.97318916, 42.51688356, 43.3408366 , 35.57587778,\n",
       "       46.06739425, 32.53636049, 39.33370463, 47.89296413, 49.43728148,\n",
       "       49.16117252, 33.42303943, 15.31490598, 45.11161687, 33.90463848,\n",
       "       42.74963326, 32.18753297, 55.09703331, 53.05245619, 40.81392776,\n",
       "       32.94889494, 37.66461563, 29.63963228])"
      ]
     },
     "execution_count": 5,
     "metadata": {},
     "output_type": "execute_result"
    }
   ],
   "source": [
    "## predicting on test\n",
    "preds = lm_md.predict(X_test)\n",
    "preds"
   ]
  },
  {
   "cell_type": "code",
   "execution_count": 6,
   "metadata": {},
   "outputs": [
    {
     "data": {
      "text/plain": [
       "157.33244583952307"
      ]
     },
     "execution_count": 6,
     "metadata": {},
     "output_type": "execute_result"
    }
   ],
   "source": [
    "## computing the mse\n",
    "mse = np.mean(np.power(preds - Y_test, 2))\n",
    "mse"
   ]
  },
  {
   "cell_type": "code",
   "execution_count": 7,
   "metadata": {},
   "outputs": [],
   "source": [
    "## defining the input and target variables\n",
    "A = house_price[['house_age', 'number_of_convenience_stores', 'latitude', 'longitude']]\n",
    "B = house_price['house_price_of_unit_area']"
   ]
  },
  {
   "cell_type": "code",
   "execution_count": 10,
   "metadata": {},
   "outputs": [
    {
     "data": {
      "text/plain": [
       "array([-2.59200573e-01,  1.61735414e+00,  3.58617710e+02,  1.85555556e+02])"
      ]
     },
     "execution_count": 10,
     "metadata": {},
     "output_type": "execute_result"
    }
   ],
   "source": [
    "## splitting the data\n",
    "A_train, A_test, B_train, B_test = train_test_split(A, B, test_size = 0.2)\n",
    "\n",
    "## building the linear model\n",
    "from sklearn.linear_model import LinearRegression\n",
    "\n",
    "lm_md = LinearRegression().fit(A_train, B_train)\n",
    "lm_md.coef_"
   ]
  },
  {
   "cell_type": "code",
   "execution_count": 11,
   "metadata": {},
   "outputs": [
    {
     "data": {
      "text/plain": [
       "array([54.64284075, 34.00242917, 38.73378589, 16.86615022, 46.05328641,\n",
       "       40.07510398, 17.24587076, 52.81794869, 32.27175182, 37.75898988,\n",
       "       49.34167834, 31.88895951, 31.26388187, 40.179567  , 15.48450436,\n",
       "       33.97650911, 48.04506449, 35.79778805, 34.95680768, 47.4183349 ,\n",
       "       15.79096071, 43.17335846, 27.8932555 , 16.90513952, 48.58999084,\n",
       "       33.70823747, 20.38615307, 36.09564612, 44.88531408, 43.27821333,\n",
       "       46.5256919 , 46.58839388, 39.55421258, 33.94759426, 44.75302566,\n",
       "       14.0781479 , 46.80373354, 44.24339285, 20.39814249, 31.60010031,\n",
       "       30.81966088, 20.35414268, 46.66615405, 49.51094109, 46.66615405,\n",
       "       26.76944926, 35.21002335, 52.94754898, 47.1845552 , 42.21983054,\n",
       "       34.88139453, 33.52896057, 30.42422919, 31.69215347, 42.70916268,\n",
       "       42.63140251, 20.45943886, 50.08946309, 46.58839388, 44.26936463,\n",
       "       44.30450559, 35.42292458, 26.76293246, 34.02834922, 42.32351077,\n",
       "       17.11249998, 36.22090558, 29.81871971, 42.57956239, 50.96285312,\n",
       "       41.73706576, 40.64913383, 36.94786817, 41.95687689, 50.61690833,\n",
       "       42.57956239, 29.72089068, 46.74391422, 45.78644676, 39.86820437,\n",
       "       38.13188247, 34.06863371, 10.58467629])"
      ]
     },
     "execution_count": 11,
     "metadata": {},
     "output_type": "execute_result"
    }
   ],
   "source": [
    "## predicting on test\n",
    "preds = lm_md.predict(A_test)\n",
    "preds"
   ]
  },
  {
   "cell_type": "code",
   "execution_count": 12,
   "metadata": {},
   "outputs": [
    {
     "data": {
      "text/plain": [
       "57.91525860289607"
      ]
     },
     "execution_count": 12,
     "metadata": {},
     "output_type": "execute_result"
    }
   ],
   "source": [
    "## computing the mse\n",
    "mse = np.mean(np.power(preds - B_test, 2))\n",
    "mse"
   ]
  },
  {
   "cell_type": "code",
   "execution_count": null,
   "metadata": {},
   "outputs": [],
   "source": [
    "# by comparing both models you can see that the mse is very low on the second one, making it the one we would want to use"
   ]
  },
  {
   "cell_type": "code",
   "execution_count": 17,
   "metadata": {},
   "outputs": [
    {
     "data": {
      "text/plain": [
       "81.68169281258623"
      ]
     },
     "execution_count": 17,
     "metadata": {},
     "output_type": "execute_result"
    }
   ],
   "source": [
    "'''from sklearn.model_selection import LeaveOneOut\n",
    "\n",
    "## defining the list to store results\n",
    "md1_results = list()\n",
    "\n",
    "cv = LeaveOneOut()\n",
    "\n",
    "for train_ix, test_ix in cv.split(X):\n",
    "    #splitting the data\n",
    "    X_train, X_test = X.loc[train_ix], X.loc[test_ix]\n",
    "    Y_train, Y_test = Y.loc[train_ix], Y.loc[test_ix]\n",
    "    \n",
    "    ## building the linear regression model\n",
    "    lm_md = LinearRegression().fit(X_train, Y_train)\n",
    "    \n",
    "    ##predicitng on the test set\n",
    "    pred = lm_md.predict(X_test)\n",
    "    \n",
    "    ## storing results\n",
    "    md1_results.append(pred[0])\n",
    "\n",
    "## computing the mse\n",
    "mse_md1 = np.mean(np.power(md1_results - Y, 2))\n",
    "mse_md1'''"
   ]
  },
  {
   "cell_type": "code",
   "execution_count": 24,
   "metadata": {},
   "outputs": [
    {
     "data": {
      "text/plain": [
       "88.19377339447"
      ]
     },
     "execution_count": 24,
     "metadata": {},
     "output_type": "execute_result"
    }
   ],
   "source": [
    "## Defining list to store results\n",
    "md1_results = []\n",
    "md2_results = []\n",
    "for i in range(0, 100):\n",
    "## Splitting the data\n",
    "    X_train, X_test, Y_train, Y_test = train_test_split(X, Y, test_size = 0.2)\n",
    "    ## Defining data for the second model\n",
    "    X_train_new = X_train.drop(columns = [’distance_to_the_nearest_MRT_station’],\n",
    "    axis = 1)\n",
    "    X_test_new = X_test.drop(columns = [’distance_to_the_nearest_MRT_station’],\n",
    "    axis = 1)\n",
    "    ## Model 1\n",
    "    md1 = LinearRegression().fit(X_train, Y_train)\n",
    "    pred1 = md1.predict(X_test)\n",
    "    mse1 = np.mean(np.power(pred1 - Y_test, 2))\n",
    "    md1_results.append(mse1)\n",
    "    ## Model 2\n",
    "    md2 = LinearRegression().fit(X_train_new, Y_train)\n",
    "    pred2 = md2.predict(X_test_new)\n",
    "    mse2 = np.mean(np.power(pred2 - Y_test, 2))\n",
    "    md2_results.append(mse2)\n",
    "4\n",
    "## Plotting iteration results\n",
    "fig = plt.figure(figsize = (12, 8))\n",
    "iterations = range(0, 100)\n",
    "plt.plot(iterations, md1_results, marker = ’o’, color = ’blue’,\n",
    "label = ’Model (d)’)\n",
    "plt.plot(iterations, md2_results, marker = ’o’, color = ’orange’,\n",
    "label = ’Model (e)’)\n",
    "plt.xlabel(’Number of Iteration’)\n",
    "plt.ylabel(’MSE’)\n",
    "plt.legend()\n",
    "plt.grid()\n",
    "plt.show()"
   ]
  },
  {
   "cell_type": "code",
   "execution_count": null,
   "metadata": {},
   "outputs": [],
   "source": [
    "## according to the loops the first testing model has performed better due it it's low MSE, making it the one you would want to choose"
   ]
  }
 ],
 "metadata": {
  "kernelspec": {
   "display_name": "Python 3",
   "language": "python",
   "name": "python3"
  },
  "language_info": {
   "codemirror_mode": {
    "name": "ipython",
    "version": 3
   },
   "file_extension": ".py",
   "mimetype": "text/x-python",
   "name": "python",
   "nbconvert_exporter": "python",
   "pygments_lexer": "ipython3",
   "version": "3.8.3"
  }
 },
 "nbformat": 4,
 "nbformat_minor": 5
}
