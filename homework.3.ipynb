{
 "cells": [
  {
   "cell_type": "code",
   "execution_count": null,
   "id": "9ba507e0",
   "metadata": {},
   "outputs": [],
   "source": [
    "#1 - It will trade a small increase in bias for a large decrease in variance \n",
    "#2 - F\n",
    "#3 - F\n",
    "#4 - The errors are high due to a high bias. You should decrease the regularization parameter "
   ]
  },
  {
   "cell_type": "code",
   "execution_count": 30,
   "id": "b5c56a0c",
   "metadata": {},
   "outputs": [
    {
     "data": {
      "text/html": [
       "<div>\n",
       "<style scoped>\n",
       "    .dataframe tbody tr th:only-of-type {\n",
       "        vertical-align: middle;\n",
       "    }\n",
       "\n",
       "    .dataframe tbody tr th {\n",
       "        vertical-align: top;\n",
       "    }\n",
       "\n",
       "    .dataframe thead th {\n",
       "        text-align: right;\n",
       "    }\n",
       "</style>\n",
       "<table border=\"1\" class=\"dataframe\">\n",
       "  <thead>\n",
       "    <tr style=\"text-align: right;\">\n",
       "      <th></th>\n",
       "      <th>car_ID</th>\n",
       "      <th>symboling</th>\n",
       "      <th>CarName</th>\n",
       "      <th>fueltype</th>\n",
       "      <th>aspiration</th>\n",
       "      <th>doornumber</th>\n",
       "      <th>carbody</th>\n",
       "      <th>drivewheel</th>\n",
       "      <th>enginelocation</th>\n",
       "      <th>wheelbase</th>\n",
       "      <th>...</th>\n",
       "      <th>enginesize</th>\n",
       "      <th>fuelsystem</th>\n",
       "      <th>boreratio</th>\n",
       "      <th>stroke</th>\n",
       "      <th>compressionratio</th>\n",
       "      <th>horsepower</th>\n",
       "      <th>peakrpm</th>\n",
       "      <th>citympg</th>\n",
       "      <th>highwaympg</th>\n",
       "      <th>price</th>\n",
       "    </tr>\n",
       "  </thead>\n",
       "  <tbody>\n",
       "    <tr>\n",
       "      <th>0</th>\n",
       "      <td>1</td>\n",
       "      <td>3</td>\n",
       "      <td>alfa-romero giulia</td>\n",
       "      <td>gas</td>\n",
       "      <td>std</td>\n",
       "      <td>two</td>\n",
       "      <td>convertible</td>\n",
       "      <td>rwd</td>\n",
       "      <td>front</td>\n",
       "      <td>88.6</td>\n",
       "      <td>...</td>\n",
       "      <td>130</td>\n",
       "      <td>mpfi</td>\n",
       "      <td>3.47</td>\n",
       "      <td>2.68</td>\n",
       "      <td>9.0</td>\n",
       "      <td>111</td>\n",
       "      <td>5000</td>\n",
       "      <td>21</td>\n",
       "      <td>27</td>\n",
       "      <td>13495.0</td>\n",
       "    </tr>\n",
       "    <tr>\n",
       "      <th>1</th>\n",
       "      <td>2</td>\n",
       "      <td>3</td>\n",
       "      <td>alfa-romero stelvio</td>\n",
       "      <td>gas</td>\n",
       "      <td>std</td>\n",
       "      <td>two</td>\n",
       "      <td>convertible</td>\n",
       "      <td>rwd</td>\n",
       "      <td>front</td>\n",
       "      <td>88.6</td>\n",
       "      <td>...</td>\n",
       "      <td>130</td>\n",
       "      <td>mpfi</td>\n",
       "      <td>3.47</td>\n",
       "      <td>2.68</td>\n",
       "      <td>9.0</td>\n",
       "      <td>111</td>\n",
       "      <td>5000</td>\n",
       "      <td>21</td>\n",
       "      <td>27</td>\n",
       "      <td>16500.0</td>\n",
       "    </tr>\n",
       "    <tr>\n",
       "      <th>2</th>\n",
       "      <td>3</td>\n",
       "      <td>1</td>\n",
       "      <td>alfa-romero Quadrifoglio</td>\n",
       "      <td>gas</td>\n",
       "      <td>std</td>\n",
       "      <td>two</td>\n",
       "      <td>hatchback</td>\n",
       "      <td>rwd</td>\n",
       "      <td>front</td>\n",
       "      <td>94.5</td>\n",
       "      <td>...</td>\n",
       "      <td>152</td>\n",
       "      <td>mpfi</td>\n",
       "      <td>2.68</td>\n",
       "      <td>3.47</td>\n",
       "      <td>9.0</td>\n",
       "      <td>154</td>\n",
       "      <td>5000</td>\n",
       "      <td>19</td>\n",
       "      <td>26</td>\n",
       "      <td>16500.0</td>\n",
       "    </tr>\n",
       "    <tr>\n",
       "      <th>3</th>\n",
       "      <td>4</td>\n",
       "      <td>2</td>\n",
       "      <td>audi 100 ls</td>\n",
       "      <td>gas</td>\n",
       "      <td>std</td>\n",
       "      <td>four</td>\n",
       "      <td>sedan</td>\n",
       "      <td>fwd</td>\n",
       "      <td>front</td>\n",
       "      <td>99.8</td>\n",
       "      <td>...</td>\n",
       "      <td>109</td>\n",
       "      <td>mpfi</td>\n",
       "      <td>3.19</td>\n",
       "      <td>3.40</td>\n",
       "      <td>10.0</td>\n",
       "      <td>102</td>\n",
       "      <td>5500</td>\n",
       "      <td>24</td>\n",
       "      <td>30</td>\n",
       "      <td>13950.0</td>\n",
       "    </tr>\n",
       "    <tr>\n",
       "      <th>4</th>\n",
       "      <td>5</td>\n",
       "      <td>2</td>\n",
       "      <td>audi 100ls</td>\n",
       "      <td>gas</td>\n",
       "      <td>std</td>\n",
       "      <td>four</td>\n",
       "      <td>sedan</td>\n",
       "      <td>4wd</td>\n",
       "      <td>front</td>\n",
       "      <td>99.4</td>\n",
       "      <td>...</td>\n",
       "      <td>136</td>\n",
       "      <td>mpfi</td>\n",
       "      <td>3.19</td>\n",
       "      <td>3.40</td>\n",
       "      <td>8.0</td>\n",
       "      <td>115</td>\n",
       "      <td>5500</td>\n",
       "      <td>18</td>\n",
       "      <td>22</td>\n",
       "      <td>17450.0</td>\n",
       "    </tr>\n",
       "  </tbody>\n",
       "</table>\n",
       "<p>5 rows × 26 columns</p>\n",
       "</div>"
      ],
      "text/plain": [
       "   car_ID  symboling                   CarName fueltype aspiration doornumber  \\\n",
       "0       1          3        alfa-romero giulia      gas        std        two   \n",
       "1       2          3       alfa-romero stelvio      gas        std        two   \n",
       "2       3          1  alfa-romero Quadrifoglio      gas        std        two   \n",
       "3       4          2               audi 100 ls      gas        std       four   \n",
       "4       5          2                audi 100ls      gas        std       four   \n",
       "\n",
       "       carbody drivewheel enginelocation  wheelbase  ...  enginesize  \\\n",
       "0  convertible        rwd          front       88.6  ...         130   \n",
       "1  convertible        rwd          front       88.6  ...         130   \n",
       "2    hatchback        rwd          front       94.5  ...         152   \n",
       "3        sedan        fwd          front       99.8  ...         109   \n",
       "4        sedan        4wd          front       99.4  ...         136   \n",
       "\n",
       "   fuelsystem  boreratio  stroke compressionratio horsepower  peakrpm citympg  \\\n",
       "0        mpfi       3.47    2.68              9.0        111     5000      21   \n",
       "1        mpfi       3.47    2.68              9.0        111     5000      21   \n",
       "2        mpfi       2.68    3.47              9.0        154     5000      19   \n",
       "3        mpfi       3.19    3.40             10.0        102     5500      24   \n",
       "4        mpfi       3.19    3.40              8.0        115     5500      18   \n",
       "\n",
       "   highwaympg    price  \n",
       "0          27  13495.0  \n",
       "1          27  16500.0  \n",
       "2          26  16500.0  \n",
       "3          30  13950.0  \n",
       "4          22  17450.0  \n",
       "\n",
       "[5 rows x 26 columns]"
      ]
     },
     "execution_count": 30,
     "metadata": {},
     "output_type": "execute_result"
    }
   ],
   "source": [
    "import boto3 \n",
    "import pandas as pd\n",
    "import numpy as np\n",
    "from sklearn.model_selection import train_test_split\n",
    "from sklearn.linear_model import LinearRegression, Ridge, RidgeCV, Lasso, LassoCV\n",
    "from sklearn.linear_model import LogisticRegression, Perceptron\n",
    "from sklearn.metrics import accuracy_score \n",
    "\n",
    "#defining bucket\n",
    "s3 = boto3.resource('s3')\n",
    "bucket_name = 'data445-ashlyn-bucket' \n",
    "bucket = s3.Bucket(bucket_name)\n",
    "\n",
    "#defining csv file\n",
    "file_key = 'CarPrice_Assignment.csv'\n",
    "\n",
    "bucket_object = bucket.Object(file_key)\n",
    "file_object = bucket_object.get()\n",
    "file_content_stream = file_object.get('Body') \n",
    "\n",
    "#reading csv file\n",
    "car_price = pd.read_csv(file_content_stream)\n",
    "car_price.head()"
   ]
  },
  {
   "cell_type": "code",
   "execution_count": 31,
   "id": "a5e16e41",
   "metadata": {},
   "outputs": [],
   "source": [
    "#defining input and target variables\n",
    "X = car_price[['wheelbase', 'enginesize', 'compressionratio', 'horsepower', 'peakrpm', 'citympg', 'highwaympg']]\n",
    "Y = car_price['price']\n",
    "\n",
    "#defining list to store\n",
    "coef = list()\n",
    "\n",
    "for i in range(0, 1000):\n",
    "\n",
    "    #splitting data\n",
    "    X_train, X_test, Y_train, Y_test = train_test_split(X, Y, test_size = 0.2)\n",
    "    \n",
    "    #lasso cross validation\n",
    "    lasso_cv = LassoCV(normalize = True, cv = 5).fit(X_train, Y_train)\n",
    "    \n",
    "    #building lasso regression\n",
    "    lasso_md = Lasso(alpha = lasso_cv.alpha_, normalize = True).fit(X_train, Y_train)\n",
    "    \n",
    "    #storing est coef\n",
    "    coef.append(lasso_md.coef_)\n",
    "    \n",
    "#list as data frame\n",
    "coef_data = pd.DataFrame(coef)"
   ]
  },
  {
   "cell_type": "code",
   "execution_count": 32,
   "id": "ccb1b063",
   "metadata": {},
   "outputs": [
    {
     "data": {
      "text/html": [
       "<div>\n",
       "<style scoped>\n",
       "    .dataframe tbody tr th:only-of-type {\n",
       "        vertical-align: middle;\n",
       "    }\n",
       "\n",
       "    .dataframe tbody tr th {\n",
       "        vertical-align: top;\n",
       "    }\n",
       "\n",
       "    .dataframe thead th {\n",
       "        text-align: right;\n",
       "    }\n",
       "</style>\n",
       "<table border=\"1\" class=\"dataframe\">\n",
       "  <thead>\n",
       "    <tr style=\"text-align: right;\">\n",
       "      <th></th>\n",
       "      <th>0</th>\n",
       "      <th>1</th>\n",
       "      <th>2</th>\n",
       "      <th>3</th>\n",
       "      <th>4</th>\n",
       "      <th>5</th>\n",
       "      <th>6</th>\n",
       "    </tr>\n",
       "  </thead>\n",
       "  <tbody>\n",
       "    <tr>\n",
       "      <th>0</th>\n",
       "      <td>185.810142</td>\n",
       "      <td>110.808507</td>\n",
       "      <td>297.591348</td>\n",
       "      <td>44.218154</td>\n",
       "      <td>2.097320</td>\n",
       "      <td>-134.800440</td>\n",
       "      <td>-0.0</td>\n",
       "    </tr>\n",
       "    <tr>\n",
       "      <th>1</th>\n",
       "      <td>162.186900</td>\n",
       "      <td>120.476041</td>\n",
       "      <td>254.336118</td>\n",
       "      <td>47.422106</td>\n",
       "      <td>2.019428</td>\n",
       "      <td>-48.797876</td>\n",
       "      <td>-0.0</td>\n",
       "    </tr>\n",
       "    <tr>\n",
       "      <th>2</th>\n",
       "      <td>162.335041</td>\n",
       "      <td>106.691890</td>\n",
       "      <td>258.639969</td>\n",
       "      <td>57.424335</td>\n",
       "      <td>1.941106</td>\n",
       "      <td>-76.254244</td>\n",
       "      <td>-0.0</td>\n",
       "    </tr>\n",
       "    <tr>\n",
       "      <th>3</th>\n",
       "      <td>195.366093</td>\n",
       "      <td>108.940433</td>\n",
       "      <td>308.604990</td>\n",
       "      <td>41.180495</td>\n",
       "      <td>2.068207</td>\n",
       "      <td>-167.796769</td>\n",
       "      <td>-0.0</td>\n",
       "    </tr>\n",
       "    <tr>\n",
       "      <th>4</th>\n",
       "      <td>219.291000</td>\n",
       "      <td>94.528741</td>\n",
       "      <td>275.807080</td>\n",
       "      <td>61.277456</td>\n",
       "      <td>1.979409</td>\n",
       "      <td>-66.533295</td>\n",
       "      <td>-0.0</td>\n",
       "    </tr>\n",
       "  </tbody>\n",
       "</table>\n",
       "</div>"
      ],
      "text/plain": [
       "            0           1           2          3         4           5    6\n",
       "0  185.810142  110.808507  297.591348  44.218154  2.097320 -134.800440 -0.0\n",
       "1  162.186900  120.476041  254.336118  47.422106  2.019428  -48.797876 -0.0\n",
       "2  162.335041  106.691890  258.639969  57.424335  1.941106  -76.254244 -0.0\n",
       "3  195.366093  108.940433  308.604990  41.180495  2.068207 -167.796769 -0.0\n",
       "4  219.291000   94.528741  275.807080  61.277456  1.979409  -66.533295 -0.0"
      ]
     },
     "execution_count": 32,
     "metadata": {},
     "output_type": "execute_result"
    }
   ],
   "source": [
    "coef_data.head()"
   ]
  },
  {
   "cell_type": "code",
   "execution_count": 21,
   "id": "398aee83",
   "metadata": {},
   "outputs": [
    {
     "data": {
      "text/plain": [
       "0"
      ]
     },
     "execution_count": 21,
     "metadata": {},
     "output_type": "execute_result"
    }
   ],
   "source": [
    "#column 0\n",
    "sum(coef_data[0] == 0.0)"
   ]
  },
  {
   "cell_type": "code",
   "execution_count": 22,
   "id": "97a28695",
   "metadata": {},
   "outputs": [
    {
     "data": {
      "text/plain": [
       "0"
      ]
     },
     "execution_count": 22,
     "metadata": {},
     "output_type": "execute_result"
    }
   ],
   "source": [
    "#column 1\n",
    "sum(coef_data[1] == 0.0)"
   ]
  },
  {
   "cell_type": "code",
   "execution_count": 23,
   "id": "52eda4e7",
   "metadata": {},
   "outputs": [
    {
     "data": {
      "text/plain": [
       "0"
      ]
     },
     "execution_count": 23,
     "metadata": {},
     "output_type": "execute_result"
    }
   ],
   "source": [
    "#column 2\n",
    "sum(coef_data[2] == 0.0)"
   ]
  },
  {
   "cell_type": "code",
   "execution_count": 24,
   "id": "40accae8",
   "metadata": {},
   "outputs": [
    {
     "data": {
      "text/plain": [
       "0"
      ]
     },
     "execution_count": 24,
     "metadata": {},
     "output_type": "execute_result"
    }
   ],
   "source": [
    "#column 3\n",
    "sum(coef_data[3] == 0.0)"
   ]
  },
  {
   "cell_type": "code",
   "execution_count": 25,
   "id": "ffa45323",
   "metadata": {},
   "outputs": [
    {
     "data": {
      "text/plain": [
       "0"
      ]
     },
     "execution_count": 25,
     "metadata": {},
     "output_type": "execute_result"
    }
   ],
   "source": [
    "#column 4\n",
    "sum(coef_data[4] == 0.0)"
   ]
  },
  {
   "cell_type": "code",
   "execution_count": 26,
   "id": "918a911e",
   "metadata": {},
   "outputs": [
    {
     "data": {
      "text/plain": [
       "15"
      ]
     },
     "execution_count": 26,
     "metadata": {},
     "output_type": "execute_result"
    }
   ],
   "source": [
    "#column 5\n",
    "sum(coef_data[5] == 0.0)"
   ]
  },
  {
   "cell_type": "code",
   "execution_count": 27,
   "id": "dd3e8f0f",
   "metadata": {},
   "outputs": [
    {
     "data": {
      "text/plain": [
       "756"
      ]
     },
     "execution_count": 27,
     "metadata": {},
     "output_type": "execute_result"
    }
   ],
   "source": [
    "#column 6\n",
    "sum(coef_data[6] == 0.0)"
   ]
  },
  {
   "cell_type": "code",
   "execution_count": 33,
   "id": "4e76a47a",
   "metadata": {},
   "outputs": [],
   "source": [
    "#dropping highway\n",
    "X = car_price[['wheelbase', 'enginesize', 'compressionratio', 'horsepower', 'peakrpm', 'citympg']]\n",
    "Y = car_price['price']\n",
    "\n",
    "#splitting data\n",
    "X_train, X_test, Y_train, Y_test = train_test_split(X, Y, test_size = 0.2)"
   ]
  },
  {
   "cell_type": "code",
   "execution_count": 34,
   "id": "304ff8c6",
   "metadata": {},
   "outputs": [],
   "source": [
    "def l2_normalization(X):\n",
    "   \n",
    "    x_mean = np.mean(X)\n",
    "    l2 = np.sqrt(sum(X**2))\n",
    "    return (X - x_mean) / l2"
   ]
  },
  {
   "cell_type": "code",
   "execution_count": 35,
   "id": "dc2e02ca",
   "metadata": {},
   "outputs": [
    {
     "data": {
      "text/plain": [
       "12068736.70322945"
      ]
     },
     "execution_count": 35,
     "metadata": {},
     "output_type": "execute_result"
    }
   ],
   "source": [
    "#building linear regression model\n",
    "lm_md = LinearRegression().fit(X_train, Y_train)\n",
    "\n",
    "#predicting on the test dataset\n",
    "md1_pred = lm_md.predict(X_test)\n",
    "\n",
    "#computing mse\n",
    "mse1 = np.mean(np.power(Y_test - md1_pred, 2))\n",
    "mse1"
   ]
  },
  {
   "cell_type": "code",
   "execution_count": 36,
   "id": "33747728",
   "metadata": {},
   "outputs": [
    {
     "data": {
      "text/plain": [
       "100.0"
      ]
     },
     "execution_count": 36,
     "metadata": {},
     "output_type": "execute_result"
    }
   ],
   "source": [
    "#ridge regression model\n",
    "ridge_cv = RidgeCV(alphas = [0.001, 0.01, 0.1, 1, 10, 100], cv = 5).fit(X_train, Y_train)\n",
    "ridge_alpha = ridge_cv.alpha_\n",
    "ridge_alpha"
   ]
  },
  {
   "cell_type": "code",
   "execution_count": 40,
   "id": "93b5ff99",
   "metadata": {},
   "outputs": [],
   "source": [
    "#defining list to store\n",
    "coef2 = list()\n",
    "\n",
    "for i in range(0, 100):\n",
    "\n",
    "    #splitting data\n",
    "    X_train, X_test, Y_train, Y_test = train_test_split(X, Y, test_size = 0.2)\n",
    "    \n",
    "    ridge_cv = RidgeCV(alphas = [0.001, 0.01, 0.1, 1, 10, 100], cv = 5).fit(X_train, Y_train)\n",
    "    \n",
    "    #building ridge regression\n",
    "    ridge_md = Ridge(alpha = ridge_cv.alpha_, normalize = True).fit(X_train, Y_train)\n",
    "    \n",
    "    #storing est coef\n",
    "    coef2.append(ridge_md.coef_)\n",
    "    \n",
    "#list as data frame\n",
    "coef2_data = pd.DataFrame(coef2)"
   ]
  },
  {
   "cell_type": "code",
   "execution_count": 41,
   "id": "8ba081ef",
   "metadata": {},
   "outputs": [
    {
     "data": {
      "text/html": [
       "<div>\n",
       "<style scoped>\n",
       "    .dataframe tbody tr th:only-of-type {\n",
       "        vertical-align: middle;\n",
       "    }\n",
       "\n",
       "    .dataframe tbody tr th {\n",
       "        vertical-align: top;\n",
       "    }\n",
       "\n",
       "    .dataframe thead th {\n",
       "        text-align: right;\n",
       "    }\n",
       "</style>\n",
       "<table border=\"1\" class=\"dataframe\">\n",
       "  <thead>\n",
       "    <tr style=\"text-align: right;\">\n",
       "      <th></th>\n",
       "      <th>0</th>\n",
       "      <th>1</th>\n",
       "      <th>2</th>\n",
       "      <th>3</th>\n",
       "      <th>4</th>\n",
       "      <th>5</th>\n",
       "    </tr>\n",
       "  </thead>\n",
       "  <tbody>\n",
       "    <tr>\n",
       "      <th>0</th>\n",
       "      <td>60.288380</td>\n",
       "      <td>13.280803</td>\n",
       "      <td>6.850145</td>\n",
       "      <td>12.817608</td>\n",
       "      <td>-0.092275</td>\n",
       "      <td>-71.235324</td>\n",
       "    </tr>\n",
       "    <tr>\n",
       "      <th>1</th>\n",
       "      <td>116.274548</td>\n",
       "      <td>112.131815</td>\n",
       "      <td>323.954766</td>\n",
       "      <td>60.570272</td>\n",
       "      <td>2.207717</td>\n",
       "      <td>-97.563068</td>\n",
       "    </tr>\n",
       "    <tr>\n",
       "      <th>2</th>\n",
       "      <td>7.195291</td>\n",
       "      <td>1.676090</td>\n",
       "      <td>2.487752</td>\n",
       "      <td>1.677963</td>\n",
       "      <td>-0.008076</td>\n",
       "      <td>-8.609071</td>\n",
       "    </tr>\n",
       "    <tr>\n",
       "      <th>3</th>\n",
       "      <td>7.819565</td>\n",
       "      <td>1.577582</td>\n",
       "      <td>1.407503</td>\n",
       "      <td>1.504966</td>\n",
       "      <td>-0.008872</td>\n",
       "      <td>-7.943423</td>\n",
       "    </tr>\n",
       "    <tr>\n",
       "      <th>4</th>\n",
       "      <td>7.730404</td>\n",
       "      <td>1.616010</td>\n",
       "      <td>0.349455</td>\n",
       "      <td>1.604976</td>\n",
       "      <td>-0.012589</td>\n",
       "      <td>-8.207905</td>\n",
       "    </tr>\n",
       "  </tbody>\n",
       "</table>\n",
       "</div>"
      ],
      "text/plain": [
       "            0           1           2          3         4          5\n",
       "0   60.288380   13.280803    6.850145  12.817608 -0.092275 -71.235324\n",
       "1  116.274548  112.131815  323.954766  60.570272  2.207717 -97.563068\n",
       "2    7.195291    1.676090    2.487752   1.677963 -0.008076  -8.609071\n",
       "3    7.819565    1.577582    1.407503   1.504966 -0.008872  -7.943423\n",
       "4    7.730404    1.616010    0.349455   1.604976 -0.012589  -8.207905"
      ]
     },
     "execution_count": 41,
     "metadata": {},
     "output_type": "execute_result"
    }
   ],
   "source": [
    "coef2_data.head()"
   ]
  },
  {
   "cell_type": "code",
   "execution_count": 42,
   "id": "f7889873",
   "metadata": {},
   "outputs": [
    {
     "data": {
      "text/plain": [
       "5283130.917752258"
      ]
     },
     "execution_count": 42,
     "metadata": {},
     "output_type": "execute_result"
    }
   ],
   "source": [
    "#building the ridge model\n",
    "ridge_md = Ridge(alpha = ridge_alpha).fit(X_train, Y_train)\n",
    "\n",
    "#predicting on test dataset\n",
    "md2_pred = ridge_md.predict(X_test)\n",
    "md2_pred\n",
    "\n",
    "#computing the mse\n",
    "mse2 = np.mean(np.power(md2_pred - Y_test, 2))\n",
    "mse2"
   ]
  },
  {
   "cell_type": "code",
   "execution_count": null,
   "id": "fc98b2bc",
   "metadata": {},
   "outputs": [],
   "source": [
    "#Based on the 2 MSEs, I would choose the linear regression\n",
    "#model to predict car prices bc it is smaller than the \n",
    "#ridge model mse"
   ]
  }
 ],
 "metadata": {
  "kernelspec": {
   "display_name": "conda_python3",
   "language": "python",
   "name": "conda_python3"
  },
  "language_info": {
   "codemirror_mode": {
    "name": "ipython",
    "version": 3
   },
   "file_extension": ".py",
   "mimetype": "text/x-python",
   "name": "python",
   "nbconvert_exporter": "python",
   "pygments_lexer": "ipython3",
   "version": "3.6.13"
  }
 },
 "nbformat": 4,
 "nbformat_minor": 5
}
