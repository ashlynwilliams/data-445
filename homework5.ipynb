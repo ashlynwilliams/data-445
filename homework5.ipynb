{
 "cells": [
  {
   "cell_type": "code",
   "execution_count": null,
   "id": "108a1950",
   "metadata": {},
   "outputs": [],
   "source": [
    "#1 - No, scaling the input features won't do anything\n",
    "#2 - Yes bc it will constrain the model and regularize it\n",
    "#3 - B\n",
    "#4 - D"
   ]
  },
  {
   "cell_type": "code",
   "execution_count": 1,
   "id": "78efe0e8",
   "metadata": {},
   "outputs": [
    {
     "data": {
      "text/html": [
       "<div>\n",
       "<style scoped>\n",
       "    .dataframe tbody tr th:only-of-type {\n",
       "        vertical-align: middle;\n",
       "    }\n",
       "\n",
       "    .dataframe tbody tr th {\n",
       "        vertical-align: top;\n",
       "    }\n",
       "\n",
       "    .dataframe thead th {\n",
       "        text-align: right;\n",
       "    }\n",
       "</style>\n",
       "<table border=\"1\" class=\"dataframe\">\n",
       "  <thead>\n",
       "    <tr style=\"text-align: right;\">\n",
       "      <th></th>\n",
       "      <th>male</th>\n",
       "      <th>age</th>\n",
       "      <th>education</th>\n",
       "      <th>currentSmoker</th>\n",
       "      <th>cigsPerDay</th>\n",
       "      <th>BPMeds</th>\n",
       "      <th>prevalentStroke</th>\n",
       "      <th>prevalentHyp</th>\n",
       "      <th>diabetes</th>\n",
       "      <th>totChol</th>\n",
       "      <th>sysBP</th>\n",
       "      <th>diaBP</th>\n",
       "      <th>BMI</th>\n",
       "      <th>heartRate</th>\n",
       "      <th>glucose</th>\n",
       "      <th>TenYearCHD</th>\n",
       "    </tr>\n",
       "  </thead>\n",
       "  <tbody>\n",
       "    <tr>\n",
       "      <th>0</th>\n",
       "      <td>1</td>\n",
       "      <td>39</td>\n",
       "      <td>4.0</td>\n",
       "      <td>0</td>\n",
       "      <td>0.0</td>\n",
       "      <td>0.0</td>\n",
       "      <td>0</td>\n",
       "      <td>0</td>\n",
       "      <td>0</td>\n",
       "      <td>195.0</td>\n",
       "      <td>106.0</td>\n",
       "      <td>70.0</td>\n",
       "      <td>26.97</td>\n",
       "      <td>80.0</td>\n",
       "      <td>77.0</td>\n",
       "      <td>0</td>\n",
       "    </tr>\n",
       "    <tr>\n",
       "      <th>1</th>\n",
       "      <td>0</td>\n",
       "      <td>46</td>\n",
       "      <td>2.0</td>\n",
       "      <td>0</td>\n",
       "      <td>0.0</td>\n",
       "      <td>0.0</td>\n",
       "      <td>0</td>\n",
       "      <td>0</td>\n",
       "      <td>0</td>\n",
       "      <td>250.0</td>\n",
       "      <td>121.0</td>\n",
       "      <td>81.0</td>\n",
       "      <td>28.73</td>\n",
       "      <td>95.0</td>\n",
       "      <td>76.0</td>\n",
       "      <td>0</td>\n",
       "    </tr>\n",
       "    <tr>\n",
       "      <th>2</th>\n",
       "      <td>1</td>\n",
       "      <td>48</td>\n",
       "      <td>1.0</td>\n",
       "      <td>1</td>\n",
       "      <td>20.0</td>\n",
       "      <td>0.0</td>\n",
       "      <td>0</td>\n",
       "      <td>0</td>\n",
       "      <td>0</td>\n",
       "      <td>245.0</td>\n",
       "      <td>127.5</td>\n",
       "      <td>80.0</td>\n",
       "      <td>25.34</td>\n",
       "      <td>75.0</td>\n",
       "      <td>70.0</td>\n",
       "      <td>0</td>\n",
       "    </tr>\n",
       "    <tr>\n",
       "      <th>3</th>\n",
       "      <td>0</td>\n",
       "      <td>61</td>\n",
       "      <td>3.0</td>\n",
       "      <td>1</td>\n",
       "      <td>30.0</td>\n",
       "      <td>0.0</td>\n",
       "      <td>0</td>\n",
       "      <td>1</td>\n",
       "      <td>0</td>\n",
       "      <td>225.0</td>\n",
       "      <td>150.0</td>\n",
       "      <td>95.0</td>\n",
       "      <td>28.58</td>\n",
       "      <td>65.0</td>\n",
       "      <td>103.0</td>\n",
       "      <td>1</td>\n",
       "    </tr>\n",
       "    <tr>\n",
       "      <th>4</th>\n",
       "      <td>0</td>\n",
       "      <td>46</td>\n",
       "      <td>3.0</td>\n",
       "      <td>1</td>\n",
       "      <td>23.0</td>\n",
       "      <td>0.0</td>\n",
       "      <td>0</td>\n",
       "      <td>0</td>\n",
       "      <td>0</td>\n",
       "      <td>285.0</td>\n",
       "      <td>130.0</td>\n",
       "      <td>84.0</td>\n",
       "      <td>23.10</td>\n",
       "      <td>85.0</td>\n",
       "      <td>85.0</td>\n",
       "      <td>0</td>\n",
       "    </tr>\n",
       "  </tbody>\n",
       "</table>\n",
       "</div>"
      ],
      "text/plain": [
       "   male  age  education  currentSmoker  cigsPerDay  BPMeds  prevalentStroke  \\\n",
       "0     1   39        4.0              0         0.0     0.0                0   \n",
       "1     0   46        2.0              0         0.0     0.0                0   \n",
       "2     1   48        1.0              1        20.0     0.0                0   \n",
       "3     0   61        3.0              1        30.0     0.0                0   \n",
       "4     0   46        3.0              1        23.0     0.0                0   \n",
       "\n",
       "   prevalentHyp  diabetes  totChol  sysBP  diaBP    BMI  heartRate  glucose  \\\n",
       "0             0         0    195.0  106.0   70.0  26.97       80.0     77.0   \n",
       "1             0         0    250.0  121.0   81.0  28.73       95.0     76.0   \n",
       "2             0         0    245.0  127.5   80.0  25.34       75.0     70.0   \n",
       "3             1         0    225.0  150.0   95.0  28.58       65.0    103.0   \n",
       "4             0         0    285.0  130.0   84.0  23.10       85.0     85.0   \n",
       "\n",
       "   TenYearCHD  \n",
       "0           0  \n",
       "1           0  \n",
       "2           0  \n",
       "3           1  \n",
       "4           0  "
      ]
     },
     "execution_count": 1,
     "metadata": {},
     "output_type": "execute_result"
    }
   ],
   "source": [
    "import boto3 \n",
    "import pandas as pd\n",
    "import numpy as np\n",
    "from sklearn.model_selection import train_test_split\n",
    "from sklearn.ensemble import RandomForestClassifier, AdaBoostClassifier\n",
    "from sklearn.tree import DecisionTreeClassifier\n",
    "from sklearn.metrics import recall_score\n",
    "from sklearn.preprocessing import MinMaxScaler\n",
    "\n",
    "#defining the bucket\n",
    "s3 = boto3.resource('s3')\n",
    "bucket_name = 'data445-ashlyn-bucket'\n",
    "bucket = s3.Bucket(bucket_name)\n",
    "\n",
    "#defining the csv file\n",
    "file_key = 'framingham.csv'\n",
    "\n",
    "bucket_object = bucket.Object(file_key)\n",
    "file_object = bucket_object.get()\n",
    "file_content_stream = file_object.get('Body')\n",
    "\n",
    "#reading the csv file\n",
    "heart = pd.read_csv(file_content_stream)\n",
    "heart = heart.dropna()\n",
    "heart.head()"
   ]
  },
  {
   "cell_type": "code",
   "execution_count": 2,
   "id": "37a33e71",
   "metadata": {},
   "outputs": [],
   "source": [
    "#input and target variables\n",
    "X = heart[['age', 'male','education', 'currentSmoker', 'cigsPerDay','BPMeds','prevalentStroke', 'prevalentStroke','prevalentHyp', 'diabetes', 'totChol', 'sysBP', 'diaBP', 'BMI', 'heartRate', 'glucose']]\n",
    "Y = heart['TenYearCHD']\n",
    "\n",
    "## splitting the data\n",
    "X_train, X_test, Y_train, Y_test = train_test_split(X,Y, test_size = .2, stratify = Y)"
   ]
  },
  {
   "cell_type": "code",
   "execution_count": 3,
   "id": "55c4216d",
   "metadata": {},
   "outputs": [],
   "source": [
    "#transforming inputs to 0-1 scale\n",
    "scaler = MinMaxScaler()\n",
    "\n",
    "X_train = scaler.fit_transform(X_train)\n",
    "X_test = scaler.fit_transform(X_test)"
   ]
  },
  {
   "cell_type": "code",
   "execution_count": 8,
   "id": "8eeb37fc",
   "metadata": {},
   "outputs": [
    {
     "data": {
      "text/plain": [
       "array([0.31240832, 0.08533402, 0.30940227, 0.12997055, 0.16288484])"
      ]
     },
     "execution_count": 8,
     "metadata": {},
     "output_type": "execute_result"
    }
   ],
   "source": [
    "#random forest\n",
    "md_rf = RandomForestClassifier(n_estimators = 500, max_depth = 3).fit(X_train, Y_train)\n",
    "\n",
    "## extracting feature importance\n",
    "md_rf.feature_importances_"
   ]
  },
  {
   "cell_type": "code",
   "execution_count": 5,
   "id": "fa792dad",
   "metadata": {},
   "outputs": [
    {
     "data": {
      "text/plain": [
       "0     0.256283\n",
       "1     0.029569\n",
       "2     0.014801\n",
       "3     0.003146\n",
       "4     0.026454\n",
       "5     0.009316\n",
       "6     0.002397\n",
       "7     0.002422\n",
       "8     0.097959\n",
       "9     0.014825\n",
       "10    0.040913\n",
       "11    0.221137\n",
       "12    0.115184\n",
       "13    0.042512\n",
       "14    0.017055\n",
       "15    0.106028\n",
       "dtype: float64"
      ]
     },
     "execution_count": 5,
     "metadata": {},
     "output_type": "execute_result"
    }
   ],
   "source": [
    "variable_importances = list()\n",
    "\n",
    "for i in range(0, 100):\n",
    "    \n",
    "    X_train, X_test, Y_train, Y_test = train_test_split(X,Y, test_size = .2, stratify = Y)\n",
    "   \n",
    "    ## randomforest\n",
    "    rf = RandomForestClassifier(n_estimators = 500, max_depth = 3).fit(X_train, Y_train)\n",
    "    \n",
    "    variable_importances.append(rf.feature_importances_)\n",
    "\n",
    "variable_importances = pd.DataFrame(variable_importances)\n",
    "\n",
    "variable_importances.apply(np.mean, axis = 0)"
   ]
  },
  {
   "cell_type": "code",
   "execution_count": 6,
   "id": "0ec93a92",
   "metadata": {},
   "outputs": [],
   "source": [
    "#top 5 important variables\n",
    "X_train = X_train[['age', 'prevalentHyp', 'sysBP', 'diaBP', 'glucose']]\n",
    "X_test = X_test[['age', 'prevalentHyp', 'sysBP', 'diaBP', 'glucose']]"
   ]
  },
  {
   "cell_type": "code",
   "execution_count": 7,
   "id": "ac297bb0",
   "metadata": {},
   "outputs": [],
   "source": [
    "#transforming inputs to 0-1 scale\n",
    "scaler = MinMaxScaler()\n",
    "\n",
    "X_train = scaler.fit_transform(X_train)\n",
    "X_test = scaler.fit_transform(X_test)"
   ]
  },
  {
   "cell_type": "code",
   "execution_count": 10,
   "id": "f3bb7957",
   "metadata": {},
   "outputs": [
    {
     "data": {
      "text/plain": [
       "0.875"
      ]
     },
     "execution_count": 10,
     "metadata": {},
     "output_type": "execute_result"
    }
   ],
   "source": [
    "md1_top5 = RandomForestClassifier(n_estimators = 500, max_depth = 3).fit(X_train, Y_train)\n",
    "\n",
    "#predicting\n",
    "pred1 = md1_top5.predict_proba(X_test)[:, 1]\n",
    "pred1 = np.where(pred1 < .1, 0, 1)\n",
    "\n",
    "#recall score\n",
    "recall_score(Y_test, pred1)"
   ]
  },
  {
   "cell_type": "code",
   "execution_count": 13,
   "id": "4be35435",
   "metadata": {},
   "outputs": [
    {
     "data": {
      "text/plain": [
       "0.8660714285714286"
      ]
     },
     "execution_count": 13,
     "metadata": {},
     "output_type": "execute_result"
    }
   ],
   "source": [
    "md2_top5 = RandomForestClassifier(n_estimators = 500, max_depth = 5).fit(X_train, Y_train)\n",
    "\n",
    "#predicting\n",
    "pred2 = md2_top5.predict_proba(X_test)[:, 1]\n",
    "pred2 = np.where(pred2 < .1, 0, 1)\n",
    "\n",
    "#recall score\n",
    "recall_score(Y_test, pred2)"
   ]
  },
  {
   "cell_type": "code",
   "execution_count": 14,
   "id": "7e263d5d",
   "metadata": {},
   "outputs": [
    {
     "data": {
      "text/plain": [
       "0.8660714285714286"
      ]
     },
     "execution_count": 14,
     "metadata": {},
     "output_type": "execute_result"
    }
   ],
   "source": [
    "md3_top5 = RandomForestClassifier(n_estimators = 500, max_depth = 7).fit(X_train, Y_train)\n",
    "\n",
    "#predicting\n",
    "pred3 = md3_top5.predict_proba(X_test)[:, 1]\n",
    "pred3 = np.where(pred3 < .1, 0, 1)\n",
    "\n",
    "#recall score\n",
    "recall_score(Y_test, pred3)"
   ]
  },
  {
   "cell_type": "code",
   "execution_count": 17,
   "id": "3417f11c",
   "metadata": {},
   "outputs": [],
   "source": [
    "final_md1 = []\n",
    "final_md2 = []\n",
    "final_md3 = []\n",
    "\n",
    "#repeating 100 times\n",
    "for i in range(0, 100):\n",
    "    \n",
    "    X_train, X_test, Y_train, Y_test = train_test_split(X,Y, test_size = .2, stratify = Y)\n",
    "    \n",
    "    md1_top5 = RandomForestClassifier(n_estimators = 500, max_depth = 3).fit(X_train, Y_train)\n",
    "    md2_top5 = RandomForestClassifier(n_estimators = 500, max_depth = 5).fit(X_train, Y_train)\n",
    "    md3_top5 = RandomForestClassifier(n_estimators = 500, max_depth = 7).fit(X_train, Y_train)\n",
    "    \n",
    "    pred1 = md1_top5.predict_proba(X_test)[:, 1]\n",
    "    pred1 = np.where(pred1 < .1, 0, 1)\n",
    "\n",
    "    pred2 = md2_top5.predict_proba(X_test)[:, 1]\n",
    "    pred2 = np.where(pred2 < .1, 0, 1)\n",
    "\n",
    "    pred3 = md3_top5.predict_proba(X_test)[:, 1]\n",
    "    pred3 = np.where(pred3 < .1, 0, 1)\n",
    "   \n",
    "    final_md1.append(recall_score(Y_test, pred1))\n",
    "    final_md2.append(recall_score(Y_test, pred2))\n",
    "    final_md3.append(recall_score(Y_test, pred3))"
   ]
  },
  {
   "cell_type": "code",
   "execution_count": 19,
   "id": "2823f958",
   "metadata": {},
   "outputs": [
    {
     "name": "stdout",
     "output_type": "stream",
     "text": [
      "Model 1 avg recall score is: 0.883125\n",
      "Model 2 avg recall score is: 0.8560714285714285\n",
      "Model 3 avg recall score is: 0.8358035714285715\n"
     ]
    }
   ],
   "source": [
    "print('Model 1 avg recall score is:', np.mean(final_md1))\n",
    "print('Model 2 avg recall score is:', np.mean(final_md2))\n",
    "print('Model 3 avg recall score is:', np.mean(final_md3))"
   ]
  },
  {
   "cell_type": "code",
   "execution_count": null,
   "id": "98d1202e",
   "metadata": {},
   "outputs": [],
   "source": [
    "#I would choose model 1 bc the avg recall score is the highest"
   ]
  }
 ],
 "metadata": {
  "kernelspec": {
   "display_name": "conda_python3",
   "language": "python",
   "name": "conda_python3"
  },
  "language_info": {
   "codemirror_mode": {
    "name": "ipython",
    "version": 3
   },
   "file_extension": ".py",
   "mimetype": "text/x-python",
   "name": "python",
   "nbconvert_exporter": "python",
   "pygments_lexer": "ipython3",
   "version": "3.6.13"
  }
 },
 "nbformat": 4,
 "nbformat_minor": 5
}
