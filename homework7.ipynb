{
 "cells": [
  {
   "cell_type": "code",
   "execution_count": null,
   "id": "f2ade8c8",
   "metadata": {},
   "outputs": [],
   "source": [
    "#1 - E\n",
    "#2 - I would choose scenerio 1 because the validation error is only slightly higher than the\n",
    "#training error, which means that it was trained well on the dataset\n",
    "#3 - outliers are one of the main differences. gradient boosting is stronger with outliers\n",
    "#4 - gradient boosting assumes each tree could miss and uses ensemble. random forest assumes that the\n",
    "#trees make good predictions\n",
    "#5 - A"
   ]
  },
  {
   "cell_type": "code",
   "execution_count": 21,
   "id": "b148053c",
   "metadata": {},
   "outputs": [
    {
     "data": {
      "text/html": [
       "<div>\n",
       "<style scoped>\n",
       "    .dataframe tbody tr th:only-of-type {\n",
       "        vertical-align: middle;\n",
       "    }\n",
       "\n",
       "    .dataframe tbody tr th {\n",
       "        vertical-align: top;\n",
       "    }\n",
       "\n",
       "    .dataframe thead th {\n",
       "        text-align: right;\n",
       "    }\n",
       "</style>\n",
       "<table border=\"1\" class=\"dataframe\">\n",
       "  <thead>\n",
       "    <tr style=\"text-align: right;\">\n",
       "      <th></th>\n",
       "      <th>male</th>\n",
       "      <th>age</th>\n",
       "      <th>education</th>\n",
       "      <th>currentSmoker</th>\n",
       "      <th>cigsPerDay</th>\n",
       "      <th>BPMeds</th>\n",
       "      <th>prevalentStroke</th>\n",
       "      <th>prevalentHyp</th>\n",
       "      <th>diabetes</th>\n",
       "      <th>totChol</th>\n",
       "      <th>sysBP</th>\n",
       "      <th>diaBP</th>\n",
       "      <th>BMI</th>\n",
       "      <th>heartRate</th>\n",
       "      <th>glucose</th>\n",
       "      <th>TenYearCHD</th>\n",
       "    </tr>\n",
       "  </thead>\n",
       "  <tbody>\n",
       "    <tr>\n",
       "      <th>0</th>\n",
       "      <td>1</td>\n",
       "      <td>39</td>\n",
       "      <td>4.0</td>\n",
       "      <td>0</td>\n",
       "      <td>0.0</td>\n",
       "      <td>0.0</td>\n",
       "      <td>0</td>\n",
       "      <td>0</td>\n",
       "      <td>0</td>\n",
       "      <td>195.0</td>\n",
       "      <td>106.0</td>\n",
       "      <td>70.0</td>\n",
       "      <td>26.97</td>\n",
       "      <td>80.0</td>\n",
       "      <td>77.0</td>\n",
       "      <td>0</td>\n",
       "    </tr>\n",
       "    <tr>\n",
       "      <th>1</th>\n",
       "      <td>0</td>\n",
       "      <td>46</td>\n",
       "      <td>2.0</td>\n",
       "      <td>0</td>\n",
       "      <td>0.0</td>\n",
       "      <td>0.0</td>\n",
       "      <td>0</td>\n",
       "      <td>0</td>\n",
       "      <td>0</td>\n",
       "      <td>250.0</td>\n",
       "      <td>121.0</td>\n",
       "      <td>81.0</td>\n",
       "      <td>28.73</td>\n",
       "      <td>95.0</td>\n",
       "      <td>76.0</td>\n",
       "      <td>0</td>\n",
       "    </tr>\n",
       "    <tr>\n",
       "      <th>2</th>\n",
       "      <td>1</td>\n",
       "      <td>48</td>\n",
       "      <td>1.0</td>\n",
       "      <td>1</td>\n",
       "      <td>20.0</td>\n",
       "      <td>0.0</td>\n",
       "      <td>0</td>\n",
       "      <td>0</td>\n",
       "      <td>0</td>\n",
       "      <td>245.0</td>\n",
       "      <td>127.5</td>\n",
       "      <td>80.0</td>\n",
       "      <td>25.34</td>\n",
       "      <td>75.0</td>\n",
       "      <td>70.0</td>\n",
       "      <td>0</td>\n",
       "    </tr>\n",
       "    <tr>\n",
       "      <th>3</th>\n",
       "      <td>0</td>\n",
       "      <td>61</td>\n",
       "      <td>3.0</td>\n",
       "      <td>1</td>\n",
       "      <td>30.0</td>\n",
       "      <td>0.0</td>\n",
       "      <td>0</td>\n",
       "      <td>1</td>\n",
       "      <td>0</td>\n",
       "      <td>225.0</td>\n",
       "      <td>150.0</td>\n",
       "      <td>95.0</td>\n",
       "      <td>28.58</td>\n",
       "      <td>65.0</td>\n",
       "      <td>103.0</td>\n",
       "      <td>1</td>\n",
       "    </tr>\n",
       "    <tr>\n",
       "      <th>4</th>\n",
       "      <td>0</td>\n",
       "      <td>46</td>\n",
       "      <td>3.0</td>\n",
       "      <td>1</td>\n",
       "      <td>23.0</td>\n",
       "      <td>0.0</td>\n",
       "      <td>0</td>\n",
       "      <td>0</td>\n",
       "      <td>0</td>\n",
       "      <td>285.0</td>\n",
       "      <td>130.0</td>\n",
       "      <td>84.0</td>\n",
       "      <td>23.10</td>\n",
       "      <td>85.0</td>\n",
       "      <td>85.0</td>\n",
       "      <td>0</td>\n",
       "    </tr>\n",
       "  </tbody>\n",
       "</table>\n",
       "</div>"
      ],
      "text/plain": [
       "   male  age  education  currentSmoker  cigsPerDay  BPMeds  prevalentStroke  \\\n",
       "0     1   39        4.0              0         0.0     0.0                0   \n",
       "1     0   46        2.0              0         0.0     0.0                0   \n",
       "2     1   48        1.0              1        20.0     0.0                0   \n",
       "3     0   61        3.0              1        30.0     0.0                0   \n",
       "4     0   46        3.0              1        23.0     0.0                0   \n",
       "\n",
       "   prevalentHyp  diabetes  totChol  sysBP  diaBP    BMI  heartRate  glucose  \\\n",
       "0             0         0    195.0  106.0   70.0  26.97       80.0     77.0   \n",
       "1             0         0    250.0  121.0   81.0  28.73       95.0     76.0   \n",
       "2             0         0    245.0  127.5   80.0  25.34       75.0     70.0   \n",
       "3             1         0    225.0  150.0   95.0  28.58       65.0    103.0   \n",
       "4             0         0    285.0  130.0   84.0  23.10       85.0     85.0   \n",
       "\n",
       "   TenYearCHD  \n",
       "0           0  \n",
       "1           0  \n",
       "2           0  \n",
       "3           1  \n",
       "4           0  "
      ]
     },
     "execution_count": 21,
     "metadata": {},
     "output_type": "execute_result"
    }
   ],
   "source": [
    "import boto3 \n",
    "import pandas as pd\n",
    "import numpy as np\n",
    "from sklearn.model_selection import train_test_split\n",
    "from sklearn.ensemble import RandomForestClassifier, AdaBoostClassifier, GradientBoostingClassifier\n",
    "from sklearn.tree import DecisionTreeClassifier\n",
    "from sklearn.metrics import recall_score, accuracy_score\n",
    "from sklearn.preprocessing import MinMaxScaler\n",
    "\n",
    "#defining the bucket\n",
    "s3 = boto3.resource('s3')\n",
    "bucket_name = 'data445-ashlyn-bucket'\n",
    "bucket = s3.Bucket(bucket_name)\n",
    "\n",
    "#defining the csv file\n",
    "file_key = 'framingham.csv'\n",
    "\n",
    "bucket_object = bucket.Object(file_key)\n",
    "file_object = bucket_object.get()\n",
    "file_content_stream = file_object.get('Body')\n",
    "\n",
    "#reading the csv file\n",
    "heart = pd.read_csv(file_content_stream)\n",
    "heart = heart.dropna()\n",
    "heart.head()"
   ]
  },
  {
   "cell_type": "code",
   "execution_count": 22,
   "id": "a83a9a44",
   "metadata": {},
   "outputs": [],
   "source": [
    "#input and target variables\n",
    "X = heart[['age', 'totChol','sysBP', 'BMI', 'heartRate', 'glucose']]\n",
    "Y = heart['TenYearCHD']\n",
    "\n",
    "#splitting the data\n",
    "X_train, X_test, Y_train, Y_test = train_test_split(X,Y, test_size = .2, stratify = Y)"
   ]
  },
  {
   "cell_type": "code",
   "execution_count": 23,
   "id": "409c956a",
   "metadata": {},
   "outputs": [],
   "source": [
    "#transforming inputs to 0-1 scale\n",
    "scaler = MinMaxScaler()\n",
    "\n",
    "X_train = scaler.fit_transform(X_train)\n",
    "X_test = scaler.fit_transform(X_test)"
   ]
  },
  {
   "cell_type": "code",
   "execution_count": 24,
   "id": "f3b67af6",
   "metadata": {},
   "outputs": [
    {
     "data": {
      "text/plain": [
       "0.9464285714285714"
      ]
     },
     "execution_count": 24,
     "metadata": {},
     "output_type": "execute_result"
    }
   ],
   "source": [
    "#random forest\n",
    "rf_md = RandomForestClassifier(n_estimators = 500, max_depth = 3).fit(X_train, Y_train)\n",
    "\n",
    "#predicting test data\n",
    "pred1 = rf_md.predict_proba(X_test)[:, 1]\n",
    "pred1_label = np.where(pred1 < 0.1, 0, 1)\n",
    "\n",
    "#computing the recall\n",
    "recall_score(Y_test, pred1_label)"
   ]
  },
  {
   "cell_type": "code",
   "execution_count": 25,
   "id": "cf6dbe85",
   "metadata": {},
   "outputs": [
    {
     "data": {
      "text/plain": [
       "0.3442622950819672"
      ]
     },
     "execution_count": 25,
     "metadata": {},
     "output_type": "execute_result"
    }
   ],
   "source": [
    "#accuracy score of rf_md\n",
    "accuracy_score(Y_test, pred1_label)"
   ]
  },
  {
   "cell_type": "code",
   "execution_count": 26,
   "id": "20ba48ed",
   "metadata": {},
   "outputs": [
    {
     "data": {
      "text/plain": [
       "0.9732142857142857"
      ]
     },
     "execution_count": 26,
     "metadata": {},
     "output_type": "execute_result"
    }
   ],
   "source": [
    "#adaboost model\n",
    "ab_md = AdaBoostClassifier(base_estimator = DecisionTreeClassifier(max_depth = 3), n_estimators = 500, learning_rate = 0.01).fit(X_train, Y_train)\n",
    "\n",
    "#predicting test data\n",
    "pred2 = ab_md.predict_proba(X_test)[:, 1]\n",
    "pred2_label = np.where(pred2 < 0.1, 0, 1)\n",
    "\n",
    "#computing the recall\n",
    "recall_score(Y_test, pred2_label)"
   ]
  },
  {
   "cell_type": "code",
   "execution_count": 27,
   "id": "d37be567",
   "metadata": {},
   "outputs": [
    {
     "data": {
      "text/plain": [
       "0.1871584699453552"
      ]
     },
     "execution_count": 27,
     "metadata": {},
     "output_type": "execute_result"
    }
   ],
   "source": [
    "#accuracy score of ab_md\n",
    "accuracy_score(Y_test, pred2_label)"
   ]
  },
  {
   "cell_type": "code",
   "execution_count": 28,
   "id": "9ca6a286",
   "metadata": {},
   "outputs": [
    {
     "data": {
      "text/plain": [
       "0.9107142857142857"
      ]
     },
     "execution_count": 28,
     "metadata": {},
     "output_type": "execute_result"
    }
   ],
   "source": [
    "#gradient boosting model\n",
    "gb_md = GradientBoostingClassifier(max_depth = 3, n_estimators = 500, learning_rate = 0.01).fit(X_train, Y_train)\n",
    "\n",
    "#making predictions\n",
    "pred3 = gb_md.predict_proba(X_test)[:, 1]\n",
    "pred3_label = np.where(pred3 < .1, 0, 1)\n",
    "\n",
    "#recall score\n",
    "recall_score(Y_test, pred3_label)"
   ]
  },
  {
   "cell_type": "code",
   "execution_count": 29,
   "id": "7eaaaa1b",
   "metadata": {},
   "outputs": [
    {
     "data": {
      "text/plain": [
       "0.41530054644808745"
      ]
     },
     "execution_count": 29,
     "metadata": {},
     "output_type": "execute_result"
    }
   ],
   "source": [
    "#accuracy score of gb_md\n",
    "accuracy_score(Y_test, pred3_label)"
   ]
  },
  {
   "cell_type": "code",
   "execution_count": 30,
   "id": "5d3ee53e",
   "metadata": {},
   "outputs": [
    {
     "name": "stdout",
     "output_type": "stream",
     "text": [
      "Model 1 avg recall score is: 0.7917857142857143\n",
      "Model 2 avg recall score is: 1.0\n",
      "Model 3 avg recall score is: 0.811160714285714\n",
      "Model 1 avg accuracy score is: 0.2969398907103825\n",
      "Model 2 avg accuracy score is: 0.15323770491803274\n",
      "Model 3 avg accuracy score is: 0.503688524590164\n"
     ]
    }
   ],
   "source": [
    "final_md1 = []\n",
    "final_md2 = []\n",
    "final_md3 = []\n",
    "accuracy_md1 = []\n",
    "accuracy_md2 = []\n",
    "accuracy_md3 = []\n",
    "\n",
    "#repeating 100 times\n",
    "for i in range(0, 100):\n",
    "    \n",
    "    X_train, X_test, Y_train, Y_test = train_test_split(X,Y, test_size = .2, stratify = Y)\n",
    "    \n",
    "    rf_md = RandomForestClassifier(n_estimators = 500, max_depth = 3).fit(X_train, Y_train)\n",
    "    ab_md = AdaBoostClassifier(base_estimator = DecisionTreeClassifier(max_depth = 3), n_estimators = 500, learning_rate = 0.1).fit(X_train, Y_train)\n",
    "    gb_md = GradientBoostingClassifier(max_depth = 3, n_estimators = 500, learning_rate = 0.01).fit(X_train, Y_train)\n",
    "    \n",
    "    pred1 = rf_md.predict_proba(X_test)[:, 1]\n",
    "    pred1 = np.where(pred1 < .1, 0, 1)\n",
    "\n",
    "    pred2 = ab_md.predict_proba(X_test)[:, 1]\n",
    "    pred2_label = np.where(pred2 < .1, 0, 1)\n",
    "\n",
    "    pred3 = gb_md.predict_proba(X_test)[:, 1]\n",
    "    pred3_label = np.where(pred3 < .1, 0, 1)\n",
    "   \n",
    "    final_md1.append(recall_score(Y_test, pred1_label))\n",
    "    final_md2.append(recall_score(Y_test, pred2_label))\n",
    "    final_md3.append(recall_score(Y_test, pred3_label))\n",
    "    accuracy_md1.append(accuracy_score(Y_test, pred1_label))\n",
    "    accuracy_md2.append(accuracy_score(Y_test, pred2_label))\n",
    "    accuracy_md3.append(accuracy_score(Y_test, pred3_label))\n",
    "    \n",
    "print('Model 1 avg recall score is:', np.mean(final_md1))\n",
    "print('Model 2 avg recall score is:', np.mean(final_md2))\n",
    "print('Model 3 avg recall score is:', np.mean(final_md3))\n",
    "print('Model 1 avg accuracy score is:', np.mean(accuracy_md1))\n",
    "print('Model 2 avg accuracy score is:', np.mean(accuracy_md2))\n",
    "print('Model 3 avg accuracy score is:', np.mean(accuracy_md3))"
   ]
  },
  {
   "cell_type": "code",
   "execution_count": null,
   "id": "856b21e7",
   "metadata": {},
   "outputs": [],
   "source": [
    "#based on the results above, I would choose model 3 because it has the highest avg recall and avg accuracy scores"
   ]
  },
  {
   "cell_type": "code",
   "execution_count": null,
   "id": "6df6de1e",
   "metadata": {},
   "outputs": [],
   "source": [
    "#none of the models had both scores greater than or equal to 80%. To fix this I would "
   ]
  }
 ],
 "metadata": {
  "kernelspec": {
   "display_name": "conda_python3",
   "language": "python",
   "name": "conda_python3"
  },
  "language_info": {
   "codemirror_mode": {
    "name": "ipython",
    "version": 3
   },
   "file_extension": ".py",
   "mimetype": "text/x-python",
   "name": "python",
   "nbconvert_exporter": "python",
   "pygments_lexer": "ipython3",
   "version": "3.6.13"
  }
 },
 "nbformat": 4,
 "nbformat_minor": 5
}
