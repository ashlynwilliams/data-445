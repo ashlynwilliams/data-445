{
 "cells": [
  {
   "cell_type": "code",
   "execution_count": null,
   "id": "53fcc5d2",
   "metadata": {},
   "outputs": [],
   "source": [
    "#1 - clustering bc you can cluster similar groups\n",
    "#2 - supervised learning\n",
    "#3 - secondary data set that tests a learning program after it trained an initial set"
   ]
  },
  {
   "cell_type": "code",
   "execution_count": 41,
   "id": "90abe90e",
   "metadata": {},
   "outputs": [
    {
     "data": {
      "text/html": [
       "<div>\n",
       "<style scoped>\n",
       "    .dataframe tbody tr th:only-of-type {\n",
       "        vertical-align: middle;\n",
       "    }\n",
       "\n",
       "    .dataframe tbody tr th {\n",
       "        vertical-align: top;\n",
       "    }\n",
       "\n",
       "    .dataframe thead th {\n",
       "        text-align: right;\n",
       "    }\n",
       "</style>\n",
       "<table border=\"1\" class=\"dataframe\">\n",
       "  <thead>\n",
       "    <tr style=\"text-align: right;\">\n",
       "      <th></th>\n",
       "      <th>No</th>\n",
       "      <th>transaction_date</th>\n",
       "      <th>house_age</th>\n",
       "      <th>distance_to_the_nearest_MRT_station</th>\n",
       "      <th>number_of_convenience_stores</th>\n",
       "      <th>latitude</th>\n",
       "      <th>longitude</th>\n",
       "      <th>house_price_of_unit_area</th>\n",
       "    </tr>\n",
       "  </thead>\n",
       "  <tbody>\n",
       "    <tr>\n",
       "      <th>0</th>\n",
       "      <td>1</td>\n",
       "      <td>2012.917</td>\n",
       "      <td>32.0</td>\n",
       "      <td>84.87882</td>\n",
       "      <td>10</td>\n",
       "      <td>24.98298</td>\n",
       "      <td>121.54024</td>\n",
       "      <td>37.9</td>\n",
       "    </tr>\n",
       "    <tr>\n",
       "      <th>1</th>\n",
       "      <td>2</td>\n",
       "      <td>2012.917</td>\n",
       "      <td>19.5</td>\n",
       "      <td>306.59470</td>\n",
       "      <td>9</td>\n",
       "      <td>24.98034</td>\n",
       "      <td>121.53951</td>\n",
       "      <td>42.2</td>\n",
       "    </tr>\n",
       "    <tr>\n",
       "      <th>2</th>\n",
       "      <td>3</td>\n",
       "      <td>2013.583</td>\n",
       "      <td>13.3</td>\n",
       "      <td>561.98450</td>\n",
       "      <td>5</td>\n",
       "      <td>24.98746</td>\n",
       "      <td>121.54391</td>\n",
       "      <td>47.3</td>\n",
       "    </tr>\n",
       "    <tr>\n",
       "      <th>3</th>\n",
       "      <td>4</td>\n",
       "      <td>2013.500</td>\n",
       "      <td>13.3</td>\n",
       "      <td>561.98450</td>\n",
       "      <td>5</td>\n",
       "      <td>24.98746</td>\n",
       "      <td>121.54391</td>\n",
       "      <td>54.8</td>\n",
       "    </tr>\n",
       "    <tr>\n",
       "      <th>4</th>\n",
       "      <td>5</td>\n",
       "      <td>2012.833</td>\n",
       "      <td>5.0</td>\n",
       "      <td>390.56840</td>\n",
       "      <td>5</td>\n",
       "      <td>24.97937</td>\n",
       "      <td>121.54245</td>\n",
       "      <td>43.1</td>\n",
       "    </tr>\n",
       "  </tbody>\n",
       "</table>\n",
       "</div>"
      ],
      "text/plain": [
       "   No  transaction_date  house_age  distance_to_the_nearest_MRT_station  \\\n",
       "0   1          2012.917       32.0                             84.87882   \n",
       "1   2          2012.917       19.5                            306.59470   \n",
       "2   3          2013.583       13.3                            561.98450   \n",
       "3   4          2013.500       13.3                            561.98450   \n",
       "4   5          2012.833        5.0                            390.56840   \n",
       "\n",
       "   number_of_convenience_stores  latitude  longitude  house_price_of_unit_area  \n",
       "0                            10  24.98298  121.54024                      37.9  \n",
       "1                             9  24.98034  121.53951                      42.2  \n",
       "2                             5  24.98746  121.54391                      47.3  \n",
       "3                             5  24.98746  121.54391                      54.8  \n",
       "4                             5  24.97937  121.54245                      43.1  "
      ]
     },
     "execution_count": 41,
     "metadata": {},
     "output_type": "execute_result"
    }
   ],
   "source": [
    "import boto3 \n",
    "import pandas as pd\n",
    "import numpy as np\n",
    "import matplotlib.pyplot as plt\n",
    "## defining the bucket\n",
    "s3 = boto3.resource('s3')\n",
    "bucket_name = 'data445-ashlyn-bucket'\n",
    "bucket = s3.Bucket(bucket_name)\n",
    "\n",
    "## defining the csv file\n",
    "file_key = 'Real_Estate.csv'\n",
    "\n",
    "bucket_object = bucket.Object(file_key)\n",
    "file_object = bucket_object.get()\n",
    "file_content_stream = file_object.get('Body')\n",
    "\n",
    "## reading the csv file\n",
    "house_price = pd.read_csv(file_content_stream)\n",
    "house_price.head()"
   ]
  },
  {
   "cell_type": "code",
   "execution_count": 29,
   "id": "50c8e296",
   "metadata": {},
   "outputs": [],
   "source": [
    "## dropping the no column\n",
    "house_price = house_price.drop(columns = ['No', 'transaction_date'], axis = 1)"
   ]
  },
  {
   "cell_type": "code",
   "execution_count": 30,
   "id": "ce267ae1",
   "metadata": {},
   "outputs": [
    {
     "data": {
      "text/plain": [
       "array([-2.75245493e-01, -4.29189432e-03,  1.20181113e+00,  2.60799700e+02,\n",
       "       -2.50127027e+01])"
      ]
     },
     "execution_count": 30,
     "metadata": {},
     "output_type": "execute_result"
    }
   ],
   "source": [
    "from sklearn.model_selection import train_test_split\n",
    "\n",
    "## defining the input and target variables\n",
    "X = house_price.drop(columns = ['house_price_of_unit_area'], axis = 1)\n",
    "Y = house_price['house_price_of_unit_area']\n",
    "\n",
    "## splitting the data\n",
    "X_train, X_test, Y_train, Y_test = train_test_split(X, Y, test_size = 0.2)\n",
    "\n",
    "## building the linear model\n",
    "from sklearn.linear_model import LinearRegression\n",
    "\n",
    "lm_md1 = LinearRegression().fit(X_train, Y_train)\n",
    "lm_md1.coef_"
   ]
  },
  {
   "cell_type": "code",
   "execution_count": 31,
   "id": "79a4b559",
   "metadata": {},
   "outputs": [
    {
     "data": {
      "text/plain": [
       "array([44.79023046, 32.31819255, 41.95623188, 46.69028615, 42.02370942,\n",
       "       12.97854812, 42.30654613, 30.82182397, 34.82598618, 46.04540989,\n",
       "       42.38534738, 48.72094858, 31.0883582 , 31.23822387, 46.52513885,\n",
       "       46.12798354, 14.11103715, 54.12209795, 34.79846164, 48.03992062,\n",
       "       44.19968489, 35.74744254, 32.290668  , 37.33434823, 38.87264423,\n",
       "       40.04480693, 29.63698045, 37.32695535, 50.52741737, 50.46584928,\n",
       "       47.91557026, 36.07182731, 33.58424453, 14.90924908, 33.87718891,\n",
       "       49.96602321, 43.08627347, 40.5416606 , 32.74890037, 39.34283005,\n",
       "       49.52877262, 43.95329164, 52.69597827, 47.97061936, 42.38534738,\n",
       "       45.45790076, 39.79363546, 30.98149805, 34.28367823, 48.25283113,\n",
       "       39.82461005, 52.59760282, 33.76148654, 48.7342095 , 33.84886684,\n",
       "       11.59384152, 38.56677284, 44.66767345, 40.37898719, 49.98325634,\n",
       "       38.61380976, 30.19414786, 32.2824188 , 39.55362201, 55.61600885,\n",
       "       34.85351073, 14.44724483,  2.61529616, 43.1596103 , 36.27247562,\n",
       "       33.12052849, 33.66681817, 39.56343233, 36.97993289, 52.54255372,\n",
       "       44.66029047, 47.84000725, 35.73214978, 45.14947426, 39.7549812 ,\n",
       "       42.74717217, 47.13383121, 29.85342932])"
      ]
     },
     "execution_count": 31,
     "metadata": {},
     "output_type": "execute_result"
    }
   ],
   "source": [
    "## predicting on test\n",
    "preds1 = lm_md1.predict(X_test)\n",
    "preds1"
   ]
  },
  {
   "cell_type": "code",
   "execution_count": 32,
   "id": "6e5ab862",
   "metadata": {},
   "outputs": [
    {
     "data": {
      "text/plain": [
       "92.43272997021538"
      ]
     },
     "execution_count": 32,
     "metadata": {},
     "output_type": "execute_result"
    }
   ],
   "source": [
    "## computing the mse\n",
    "mse1 = np.mean(np.power(preds1 - Y_test, 2))\n",
    "mse1"
   ]
  },
  {
   "cell_type": "code",
   "execution_count": 33,
   "id": "eb22dfe1",
   "metadata": {},
   "outputs": [],
   "source": [
    "## defining the input and target variables\n",
    "X_new_train = X_train.drop(columns = ['distance_to_the_nearest_MRT_station'],axis = 1)\n",
    "X_new_test = X_test.drop(columns = ['distance_to_the_nearest_MRT_station'], axis = 1)"
   ]
  },
  {
   "cell_type": "code",
   "execution_count": 34,
   "id": "1a46e73f",
   "metadata": {},
   "outputs": [],
   "source": [
    "## linear model\n",
    "lm_md2 = LinearRegression().fit(X_new_train, Y_train)\n",
    "\n",
    "#predicting on test\n",
    "preds_2 = lm_md2.predict(X_new_test)\n",
    "\n",
    "#mse\n",
    "mse_2 = np.mean(np.power(preds_2 - Y_test, 2))"
   ]
  },
  {
   "cell_type": "code",
   "execution_count": 35,
   "id": "3040e575",
   "metadata": {},
   "outputs": [
    {
     "data": {
      "text/plain": [
       "255.4996406436627"
      ]
     },
     "execution_count": 35,
     "metadata": {},
     "output_type": "execute_result"
    }
   ],
   "source": [
    "## computing the mse\n",
    "mse = np.mean(np.power(preds - Y_test, 2))\n",
    "mse"
   ]
  },
  {
   "cell_type": "code",
   "execution_count": null,
   "id": "8df22467",
   "metadata": {},
   "outputs": [],
   "source": [
    "#we would choose the first mse model"
   ]
  },
  {
   "cell_type": "code",
   "execution_count": 37,
   "id": "bc3f25b8",
   "metadata": {},
   "outputs": [
    {
     "data": {
      "text/plain": [
       "[118.82587042974814,\n",
       " 141.0886094490433,\n",
       " 137.1099518013735,\n",
       " 67.31240042421982,\n",
       " 138.86566020470602,\n",
       " 78.93875802766168,\n",
       " 69.72503758699307,\n",
       " 73.06093960109473,\n",
       " 72.12383602289715,\n",
       " 74.02593005678776,\n",
       " 53.61096169365116,\n",
       " 90.91576034726957,\n",
       " 138.03189195140774,\n",
       " 49.49610415990957,\n",
       " 132.29664069671404,\n",
       " 54.94367953503847,\n",
       " 94.23074172599898,\n",
       " 39.63312583679477,\n",
       " 154.66738110042402,\n",
       " 54.472424309272476,\n",
       " 139.56120095431962,\n",
       " 71.5823293188055,\n",
       " 85.30871911904387,\n",
       " 132.1086800948192,\n",
       " 74.7660922428192,\n",
       " 94.48606343260045,\n",
       " 56.9224691920799,\n",
       " 82.79561664006812,\n",
       " 70.98973046524318,\n",
       " 61.55624625834112,\n",
       " 58.000037448568705,\n",
       " 73.62617370387129,\n",
       " 56.55075612640728,\n",
       " 71.43401190591766,\n",
       " 53.07459839702847,\n",
       " 74.04889281032867,\n",
       " 74.49065303249994,\n",
       " 134.4277971069606,\n",
       " 87.09765742727403,\n",
       " 61.70532838965161,\n",
       " 58.96715322616201,\n",
       " 61.0805073546695,\n",
       " 46.163448314532424,\n",
       " 96.41176407722259,\n",
       " 59.58472193626433,\n",
       " 57.70180811677184,\n",
       " 138.83118527956753,\n",
       " 71.7079281739623,\n",
       " 46.88823619201399,\n",
       " 63.7480188591546,\n",
       " 51.30830039558344,\n",
       " 79.22971514632304,\n",
       " 79.07610910363007,\n",
       " 66.16533334442876,\n",
       " 77.9739042523283,\n",
       " 143.65368353497925,\n",
       " 63.49344529412777,\n",
       " 143.5722152996586,\n",
       " 67.83072821030001,\n",
       " 56.75979227933072,\n",
       " 78.68961564904619,\n",
       " 54.42120180678565,\n",
       " 66.30150391659458,\n",
       " 69.39424387168646,\n",
       " 41.64060573344146,\n",
       " 66.89813573874278,\n",
       " 158.30764215719554,\n",
       " 54.369393377709905,\n",
       " 147.6099265118688,\n",
       " 37.798755927944406,\n",
       " 133.11596962512766,\n",
       " 60.41161292095698,\n",
       " 69.00307875236734,\n",
       " 51.30698072124059,\n",
       " 57.75281496298784,\n",
       " 68.61064707664345,\n",
       " 145.8203114973461,\n",
       " 67.60562434984524,\n",
       " 57.01847902783274,\n",
       " 119.2258729808568,\n",
       " 66.624104952308,\n",
       " 79.42277570184183,\n",
       " 64.27686624286561,\n",
       " 68.32751583534349,\n",
       " 76.78938605710883,\n",
       " 57.187907300791665,\n",
       " 89.1472627322194,\n",
       " 70.54875111119487,\n",
       " 111.04327321772332,\n",
       " 45.685503391136685,\n",
       " 118.44562822495101,\n",
       " 37.12618960173784,\n",
       " 66.96437055455537,\n",
       " 56.079859393383316,\n",
       " 78.87513733079732,\n",
       " 87.21306247187482,\n",
       " 58.56270722877396,\n",
       " 45.96194493804786,\n",
       " 139.59218078379615,\n",
       " 69.48875558972568]"
      ]
     },
     "execution_count": 37,
     "metadata": {},
     "output_type": "execute_result"
    }
   ],
   "source": [
    "from sklearn.model_selection import LeaveOneOut\n",
    "\n",
    "#list\n",
    "md1_result = []\n",
    "md2_result = []\n",
    "\n",
    "for i in range(0,100):\n",
    "    \n",
    "    X_train, X_test, Y_train, Y_test = train_test_split(X, Y, test_size = 0.2)\n",
    "\n",
    "    X_new_train = X_train.drop(columns = ['distance_to_the_nearest_MRT_station'], axis =1)\n",
    "    X_new_test = X_test.drop(columns = ['distance_to_the_nearest_MRT_station'], axis =1)\n",
    "    \n",
    "    md1 = LinearRegression().fit(X_train, Y_train)\n",
    "    pred1 = md1.predict(X_test)\n",
    "    mse1 = np.mean(np.power(pred1 - Y_test, 2))\n",
    "    md1_result.append(mse1)\n",
    "md1_result\n",
    "   \n",
    "    "
   ]
  },
  {
   "cell_type": "code",
   "execution_count": 39,
   "id": "b92ad844",
   "metadata": {},
   "outputs": [
    {
     "data": {
      "text/plain": [
       "[78.41405081224426]"
      ]
     },
     "execution_count": 39,
     "metadata": {},
     "output_type": "execute_result"
    }
   ],
   "source": [
    "    md2 = LinearRegression().fit(X_new_train, Y_train)\n",
    "    pred2 = md2.predict(X_new_test)\n",
    "    mse2 = np.mean(np.power(pred2 - Y_test, 2))\n",
    "    md2_result.append(mse2)\n",
    "    \n",
    "md2_result"
   ]
  },
  {
   "cell_type": "code",
   "execution_count": 45,
   "id": "1acc81fc",
   "metadata": {},
   "outputs": [
    {
     "ename": "ValueError",
     "evalue": "x and y must have same first dimension, but have shapes (100,) and (1,)",
     "output_type": "error",
     "traceback": [
      "\u001b[0;31m---------------------------------------------------------------------------\u001b[0m",
      "\u001b[0;31mValueError\u001b[0m                                Traceback (most recent call last)",
      "\u001b[0;32m<ipython-input-45-be2dac16734c>\u001b[0m in \u001b[0;36m<module>\u001b[0;34m\u001b[0m\n\u001b[1;32m      3\u001b[0m \u001b[0miterations\u001b[0m \u001b[0;34m=\u001b[0m \u001b[0mrange\u001b[0m\u001b[0;34m(\u001b[0m\u001b[0;36m0\u001b[0m\u001b[0;34m,\u001b[0m \u001b[0;36m100\u001b[0m\u001b[0;34m)\u001b[0m\u001b[0;34m\u001b[0m\u001b[0;34m\u001b[0m\u001b[0m\n\u001b[1;32m      4\u001b[0m \u001b[0mplt\u001b[0m\u001b[0;34m.\u001b[0m\u001b[0mplot\u001b[0m\u001b[0;34m(\u001b[0m\u001b[0miterations\u001b[0m\u001b[0;34m,\u001b[0m \u001b[0mmd1_result\u001b[0m\u001b[0;34m,\u001b[0m \u001b[0mmarker\u001b[0m \u001b[0;34m=\u001b[0m \u001b[0;34m'o'\u001b[0m\u001b[0;34m,\u001b[0m \u001b[0mcolor\u001b[0m \u001b[0;34m=\u001b[0m \u001b[0;34m'red'\u001b[0m\u001b[0;34m,\u001b[0m \u001b[0mlabel\u001b[0m \u001b[0;34m=\u001b[0m \u001b[0;34m'Model (d)'\u001b[0m\u001b[0;34m)\u001b[0m\u001b[0;34m\u001b[0m\u001b[0;34m\u001b[0m\u001b[0m\n\u001b[0;32m----> 5\u001b[0;31m \u001b[0mplt\u001b[0m\u001b[0;34m.\u001b[0m\u001b[0mplot\u001b[0m\u001b[0;34m(\u001b[0m\u001b[0miterations\u001b[0m\u001b[0;34m,\u001b[0m \u001b[0mmd2_result\u001b[0m\u001b[0;34m,\u001b[0m \u001b[0mmarker\u001b[0m \u001b[0;34m=\u001b[0m \u001b[0;34m'o'\u001b[0m\u001b[0;34m,\u001b[0m \u001b[0mcolor\u001b[0m \u001b[0;34m=\u001b[0m \u001b[0;34m'blue'\u001b[0m\u001b[0;34m,\u001b[0m \u001b[0mlabel\u001b[0m \u001b[0;34m=\u001b[0m \u001b[0;34m'Model (e)'\u001b[0m\u001b[0;34m)\u001b[0m\u001b[0;34m\u001b[0m\u001b[0;34m\u001b[0m\u001b[0m\n\u001b[0m\u001b[1;32m      6\u001b[0m \u001b[0;34m\u001b[0m\u001b[0m\n\u001b[1;32m      7\u001b[0m \u001b[0mplt\u001b[0m\u001b[0;34m.\u001b[0m\u001b[0mxlabel\u001b[0m\u001b[0;34m(\u001b[0m\u001b[0;34m'Number of Iteration'\u001b[0m\u001b[0;34m)\u001b[0m\u001b[0;34m\u001b[0m\u001b[0;34m\u001b[0m\u001b[0m\n",
      "\u001b[0;32m~/anaconda3/envs/python3/lib/python3.6/site-packages/matplotlib/pyplot.py\u001b[0m in \u001b[0;36mplot\u001b[0;34m(scalex, scaley, data, *args, **kwargs)\u001b[0m\n\u001b[1;32m   2840\u001b[0m     return gca().plot(\n\u001b[1;32m   2841\u001b[0m         \u001b[0;34m*\u001b[0m\u001b[0margs\u001b[0m\u001b[0;34m,\u001b[0m \u001b[0mscalex\u001b[0m\u001b[0;34m=\u001b[0m\u001b[0mscalex\u001b[0m\u001b[0;34m,\u001b[0m \u001b[0mscaley\u001b[0m\u001b[0;34m=\u001b[0m\u001b[0mscaley\u001b[0m\u001b[0;34m,\u001b[0m\u001b[0;34m\u001b[0m\u001b[0;34m\u001b[0m\u001b[0m\n\u001b[0;32m-> 2842\u001b[0;31m         **({\"data\": data} if data is not None else {}), **kwargs)\n\u001b[0m\u001b[1;32m   2843\u001b[0m \u001b[0;34m\u001b[0m\u001b[0m\n\u001b[1;32m   2844\u001b[0m \u001b[0;34m\u001b[0m\u001b[0m\n",
      "\u001b[0;32m~/anaconda3/envs/python3/lib/python3.6/site-packages/matplotlib/axes/_axes.py\u001b[0m in \u001b[0;36mplot\u001b[0;34m(self, scalex, scaley, data, *args, **kwargs)\u001b[0m\n\u001b[1;32m   1741\u001b[0m         \"\"\"\n\u001b[1;32m   1742\u001b[0m         \u001b[0mkwargs\u001b[0m \u001b[0;34m=\u001b[0m \u001b[0mcbook\u001b[0m\u001b[0;34m.\u001b[0m\u001b[0mnormalize_kwargs\u001b[0m\u001b[0;34m(\u001b[0m\u001b[0mkwargs\u001b[0m\u001b[0;34m,\u001b[0m \u001b[0mmlines\u001b[0m\u001b[0;34m.\u001b[0m\u001b[0mLine2D\u001b[0m\u001b[0;34m)\u001b[0m\u001b[0;34m\u001b[0m\u001b[0;34m\u001b[0m\u001b[0m\n\u001b[0;32m-> 1743\u001b[0;31m         \u001b[0mlines\u001b[0m \u001b[0;34m=\u001b[0m \u001b[0;34m[\u001b[0m\u001b[0;34m*\u001b[0m\u001b[0mself\u001b[0m\u001b[0;34m.\u001b[0m\u001b[0m_get_lines\u001b[0m\u001b[0;34m(\u001b[0m\u001b[0;34m*\u001b[0m\u001b[0margs\u001b[0m\u001b[0;34m,\u001b[0m \u001b[0mdata\u001b[0m\u001b[0;34m=\u001b[0m\u001b[0mdata\u001b[0m\u001b[0;34m,\u001b[0m \u001b[0;34m**\u001b[0m\u001b[0mkwargs\u001b[0m\u001b[0;34m)\u001b[0m\u001b[0;34m]\u001b[0m\u001b[0;34m\u001b[0m\u001b[0;34m\u001b[0m\u001b[0m\n\u001b[0m\u001b[1;32m   1744\u001b[0m         \u001b[0;32mfor\u001b[0m \u001b[0mline\u001b[0m \u001b[0;32min\u001b[0m \u001b[0mlines\u001b[0m\u001b[0;34m:\u001b[0m\u001b[0;34m\u001b[0m\u001b[0;34m\u001b[0m\u001b[0m\n\u001b[1;32m   1745\u001b[0m             \u001b[0mself\u001b[0m\u001b[0;34m.\u001b[0m\u001b[0madd_line\u001b[0m\u001b[0;34m(\u001b[0m\u001b[0mline\u001b[0m\u001b[0;34m)\u001b[0m\u001b[0;34m\u001b[0m\u001b[0;34m\u001b[0m\u001b[0m\n",
      "\u001b[0;32m~/anaconda3/envs/python3/lib/python3.6/site-packages/matplotlib/axes/_base.py\u001b[0m in \u001b[0;36m__call__\u001b[0;34m(self, data, *args, **kwargs)\u001b[0m\n\u001b[1;32m    271\u001b[0m                 \u001b[0mthis\u001b[0m \u001b[0;34m+=\u001b[0m \u001b[0margs\u001b[0m\u001b[0;34m[\u001b[0m\u001b[0;36m0\u001b[0m\u001b[0;34m]\u001b[0m\u001b[0;34m,\u001b[0m\u001b[0;34m\u001b[0m\u001b[0;34m\u001b[0m\u001b[0m\n\u001b[1;32m    272\u001b[0m                 \u001b[0margs\u001b[0m \u001b[0;34m=\u001b[0m \u001b[0margs\u001b[0m\u001b[0;34m[\u001b[0m\u001b[0;36m1\u001b[0m\u001b[0;34m:\u001b[0m\u001b[0;34m]\u001b[0m\u001b[0;34m\u001b[0m\u001b[0;34m\u001b[0m\u001b[0m\n\u001b[0;32m--> 273\u001b[0;31m             \u001b[0;32myield\u001b[0m \u001b[0;32mfrom\u001b[0m \u001b[0mself\u001b[0m\u001b[0;34m.\u001b[0m\u001b[0m_plot_args\u001b[0m\u001b[0;34m(\u001b[0m\u001b[0mthis\u001b[0m\u001b[0;34m,\u001b[0m \u001b[0mkwargs\u001b[0m\u001b[0;34m)\u001b[0m\u001b[0;34m\u001b[0m\u001b[0;34m\u001b[0m\u001b[0m\n\u001b[0m\u001b[1;32m    274\u001b[0m \u001b[0;34m\u001b[0m\u001b[0m\n\u001b[1;32m    275\u001b[0m     \u001b[0;32mdef\u001b[0m \u001b[0mget_next_color\u001b[0m\u001b[0;34m(\u001b[0m\u001b[0mself\u001b[0m\u001b[0;34m)\u001b[0m\u001b[0;34m:\u001b[0m\u001b[0;34m\u001b[0m\u001b[0;34m\u001b[0m\u001b[0m\n",
      "\u001b[0;32m~/anaconda3/envs/python3/lib/python3.6/site-packages/matplotlib/axes/_base.py\u001b[0m in \u001b[0;36m_plot_args\u001b[0;34m(self, tup, kwargs)\u001b[0m\n\u001b[1;32m    397\u001b[0m \u001b[0;34m\u001b[0m\u001b[0m\n\u001b[1;32m    398\u001b[0m         \u001b[0;32mif\u001b[0m \u001b[0mx\u001b[0m\u001b[0;34m.\u001b[0m\u001b[0mshape\u001b[0m\u001b[0;34m[\u001b[0m\u001b[0;36m0\u001b[0m\u001b[0;34m]\u001b[0m \u001b[0;34m!=\u001b[0m \u001b[0my\u001b[0m\u001b[0;34m.\u001b[0m\u001b[0mshape\u001b[0m\u001b[0;34m[\u001b[0m\u001b[0;36m0\u001b[0m\u001b[0;34m]\u001b[0m\u001b[0;34m:\u001b[0m\u001b[0;34m\u001b[0m\u001b[0;34m\u001b[0m\u001b[0m\n\u001b[0;32m--> 399\u001b[0;31m             raise ValueError(f\"x and y must have same first dimension, but \"\n\u001b[0m\u001b[1;32m    400\u001b[0m                              f\"have shapes {x.shape} and {y.shape}\")\n\u001b[1;32m    401\u001b[0m         \u001b[0;32mif\u001b[0m \u001b[0mx\u001b[0m\u001b[0;34m.\u001b[0m\u001b[0mndim\u001b[0m \u001b[0;34m>\u001b[0m \u001b[0;36m2\u001b[0m \u001b[0;32mor\u001b[0m \u001b[0my\u001b[0m\u001b[0;34m.\u001b[0m\u001b[0mndim\u001b[0m \u001b[0;34m>\u001b[0m \u001b[0;36m2\u001b[0m\u001b[0;34m:\u001b[0m\u001b[0;34m\u001b[0m\u001b[0;34m\u001b[0m\u001b[0m\n",
      "\u001b[0;31mValueError\u001b[0m: x and y must have same first dimension, but have shapes (100,) and (1,)"
     ]
    },
    {
     "data": {
      "image/png": "[encoded data removed]",
      "text/plain": [
       "<Figure size 864x576 with 1 Axes>"
      ]
     },
     "metadata": {
      "needs_background": "light"
     },
     "output_type": "display_data"
    }
   ],
   "source": [
    "fig = plt.figure(figsize = (12, 8))\n",
    "\n",
    "iterations = range(0, 100)\n",
    "plt.plot(iterations, md1_result, marker = 'o', color = 'red', label = 'Model (d)')\n",
    "plt.plot(iterations, md2_result, marker = 'o', color = 'blue', label = 'Model (e)')\n",
    "\n",
    "plt.xlabel('Number of Iteration')\n",
    "plt.ylabel('MSE')\n",
    "plt.legend()\n",
    "plt.grid()\n",
    "plt.show()\n"
   ]
  }
 ],
 "metadata": {
  "kernelspec": {
   "display_name": "conda_python3",
   "language": "python",
   "name": "conda_python3"
  },
  "language_info": {
   "codemirror_mode": {
    "name": "ipython",
    "version": 3
   },
   "file_extension": ".py",
   "mimetype": "text/x-python",
   "name": "python",
   "nbconvert_exporter": "python",
   "pygments_lexer": "ipython3",
   "version": "3.6.13"
  }
 },
 "nbformat": 4,
 "nbformat_minor": 5
}
